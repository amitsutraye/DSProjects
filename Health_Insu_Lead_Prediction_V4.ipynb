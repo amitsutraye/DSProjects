{
  "nbformat": 4,
  "nbformat_minor": 0,
  "metadata": {
    "accelerator": "TPU",
    "colab": {
      "name": "Health_Insu_Lead_Prediction_V4.ipynb",
      "provenance": [],
      "collapsed_sections": [],
      "machine_shape": "hm"
    },
    "kernelspec": {
      "display_name": "Python 3",
      "name": "python3"
    }
  },
  "cells": [
    {
      "cell_type": "markdown",
      "metadata": {
        "id": "24B6hUb7xeWG"
      },
      "source": [
        "##### Health Insurance Lead Prediction"
      ]
    },
    {
      "cell_type": "code",
      "metadata": {
        "id": "QKCVEdqFxYA-"
      },
      "source": [
        "# Importing the necessary Libraries\r\n",
        "import pandas as pd\r\n",
        "import numpy as np\r\n",
        "import matplotlib.pyplot as plt\r\n",
        "import seaborn as sns\r\n",
        "%matplotlib inline\r\n",
        "sns.set()\r\n",
        "from sklearn.model_selection import train_test_split\r\n",
        "from sklearn.linear_model import LogisticRegression\r\n",
        "from xgboost import XGBClassifier\r\n",
        "from sklearn.metrics import accuracy_score\r\n",
        "from sklearn.metrics import roc_auc_score\r\n",
        "from sklearn.ensemble import RandomForestClassifier \r\n",
        "from sklearn.model_selection import GridSearchCV"
      ],
      "execution_count": 295,
      "outputs": []
    },
    {
      "cell_type": "code",
      "metadata": {
        "id": "1KotRLd_xnT9"
      },
      "source": [
        "# Loading the data and creating a copy of train and test data for further analysis\r\n",
        "\r\n",
        "train = pd.read_csv('/content/drive/MyDrive/DS/Health Insurance Lead Prediction/train_Df64byy.csv', index_col='ID')\r\n",
        "test = pd.read_csv('/content/drive/MyDrive/DS/Health Insurance Lead Prediction/test_YCcRUnU.csv', index_col='ID')\r\n",
        "\r\n",
        "df_train = train.copy()\r\n",
        "df_test = test.copy()"
      ],
      "execution_count": 296,
      "outputs": []
    },
    {
      "cell_type": "code",
      "metadata": {
        "colab": {
          "base_uri": "https://localhost:8080/"
        },
        "id": "y1gTxGZXyQzZ",
        "outputId": "7a19f50d-c41f-40e5-a100-3ac14637f652"
      },
      "source": [
        "df_train.info()"
      ],
      "execution_count": 297,
      "outputs": [
        {
          "output_type": "stream",
          "text": [
            "<class 'pandas.core.frame.DataFrame'>\n",
            "Int64Index: 50882 entries, 1 to 50882\n",
            "Data columns (total 13 columns):\n",
            " #   Column                   Non-Null Count  Dtype  \n",
            "---  ------                   --------------  -----  \n",
            " 0   City_Code                50882 non-null  object \n",
            " 1   Region_Code              50882 non-null  int64  \n",
            " 2   Accomodation_Type        50882 non-null  object \n",
            " 3   Reco_Insurance_Type      50882 non-null  object \n",
            " 4   Upper_Age                50882 non-null  int64  \n",
            " 5   Lower_Age                50882 non-null  int64  \n",
            " 6   Is_Spouse                50882 non-null  object \n",
            " 7   Health Indicator         39191 non-null  object \n",
            " 8   Holding_Policy_Duration  30631 non-null  object \n",
            " 9   Holding_Policy_Type      30631 non-null  float64\n",
            " 10  Reco_Policy_Cat          50882 non-null  int64  \n",
            " 11  Reco_Policy_Premium      50882 non-null  float64\n",
            " 12  Response                 50882 non-null  int64  \n",
            "dtypes: float64(2), int64(5), object(6)\n",
            "memory usage: 5.4+ MB\n"
          ],
          "name": "stdout"
        }
      ]
    },
    {
      "cell_type": "markdown",
      "metadata": {
        "id": "xhfyqC6aNBHn"
      },
      "source": [
        "We can see that there are 3 columns, which have NaN values."
      ]
    },
    {
      "cell_type": "code",
      "metadata": {
        "id": "MdTX4TlNya7K"
      },
      "source": [
        "# Modifying the columns that have the binary classification to appropriate numericals\r\n",
        "# Changing the name of the column - \"Health Indicator\" to \"Health_Indicator\"\r\n",
        "def modify_data(data):\r\n",
        "  data = data.rename(columns={'Health Indicator': 'Health_Indicator'})\r\n",
        "  category_cols = {\"Accomodation_Type\": {\"Rented\": 0, \"Owned\": 1},\r\n",
        "                    \"Reco_Insurance_Type\": {\"Individual\": 0, \"Joint\": 1},\r\n",
        "                    \"Is_Spouse\": {\"No\": 0, \"Yes\": 1},\r\n",
        "                    \"Health_Indicator\": {\"X1\": 1, \"X2\": 2,\"X3\": 3, \"X4\": 4,\"X5\": 5,\"X6\": 6, \"X7\": 7,\"X8\": 8, \"X9\": 9}\r\n",
        "                  }\r\n",
        "  data = data.replace(category_cols)\r\n",
        "  return data\r\n",
        "  "
      ],
      "execution_count": 298,
      "outputs": []
    },
    {
      "cell_type": "code",
      "metadata": {
        "id": "rQl8P-Cg0PtD"
      },
      "source": [
        "# Applying modify_data for both train and test data\r\n",
        "df_train = modify_data(df_train)\r\n",
        "df_test = modify_data(df_test)"
      ],
      "execution_count": 299,
      "outputs": []
    },
    {
      "cell_type": "code",
      "metadata": {
        "id": "Uk3sjK0IFu1J"
      },
      "source": [
        "# Adding additional features to the data and also replacing String value to float\r\n",
        "def new_feature(data):\r\n",
        "  data['Age_Diff'] = data['Upper_Age']-data['Lower_Age']\r\n",
        "  data['Holding_Policy_Duration_Check'] = np.where(data['Holding_Policy_Duration']!= '14+', 0, 1)\r\n",
        "  data = data.replace({\"Holding_Policy_Duration\": {\"14+\": float(14)}})\r\n",
        "  data[\"Holding_Policy_Duration\"] = pd.to_numeric(data[\"Holding_Policy_Duration\"], downcast=\"float\")\r\n",
        "  return data"
      ],
      "execution_count": 300,
      "outputs": []
    },
    {
      "cell_type": "code",
      "metadata": {
        "id": "mpK7PgAoGG4G"
      },
      "source": [
        "# Applying modify_data for both train and test data\r\n",
        "df_train = new_feature(df_train)\r\n",
        "df_test = new_feature(df_test)"
      ],
      "execution_count": 301,
      "outputs": []
    },
    {
      "cell_type": "markdown",
      "metadata": {
        "id": "osRGuM8sPI7X"
      },
      "source": [
        "Performing EDA"
      ]
    },
    {
      "cell_type": "code",
      "metadata": {
        "colab": {
          "base_uri": "https://localhost:8080/",
          "height": 255
        },
        "id": "srD0zlLq0SB6",
        "outputId": "882f6a27-cf2f-4bee-fae7-6d549169274a"
      },
      "source": [
        "df_train.head()"
      ],
      "execution_count": 302,
      "outputs": [
        {
          "output_type": "execute_result",
          "data": {
            "text/html": [
              "<div>\n",
              "<style scoped>\n",
              "    .dataframe tbody tr th:only-of-type {\n",
              "        vertical-align: middle;\n",
              "    }\n",
              "\n",
              "    .dataframe tbody tr th {\n",
              "        vertical-align: top;\n",
              "    }\n",
              "\n",
              "    .dataframe thead th {\n",
              "        text-align: right;\n",
              "    }\n",
              "</style>\n",
              "<table border=\"1\" class=\"dataframe\">\n",
              "  <thead>\n",
              "    <tr style=\"text-align: right;\">\n",
              "      <th></th>\n",
              "      <th>City_Code</th>\n",
              "      <th>Region_Code</th>\n",
              "      <th>Accomodation_Type</th>\n",
              "      <th>Reco_Insurance_Type</th>\n",
              "      <th>Upper_Age</th>\n",
              "      <th>Lower_Age</th>\n",
              "      <th>Is_Spouse</th>\n",
              "      <th>Health_Indicator</th>\n",
              "      <th>Holding_Policy_Duration</th>\n",
              "      <th>Holding_Policy_Type</th>\n",
              "      <th>Reco_Policy_Cat</th>\n",
              "      <th>Reco_Policy_Premium</th>\n",
              "      <th>Response</th>\n",
              "      <th>Age_Diff</th>\n",
              "      <th>Holding_Policy_Duration_Check</th>\n",
              "    </tr>\n",
              "    <tr>\n",
              "      <th>ID</th>\n",
              "      <th></th>\n",
              "      <th></th>\n",
              "      <th></th>\n",
              "      <th></th>\n",
              "      <th></th>\n",
              "      <th></th>\n",
              "      <th></th>\n",
              "      <th></th>\n",
              "      <th></th>\n",
              "      <th></th>\n",
              "      <th></th>\n",
              "      <th></th>\n",
              "      <th></th>\n",
              "      <th></th>\n",
              "      <th></th>\n",
              "    </tr>\n",
              "  </thead>\n",
              "  <tbody>\n",
              "    <tr>\n",
              "      <th>1</th>\n",
              "      <td>C3</td>\n",
              "      <td>3213</td>\n",
              "      <td>0</td>\n",
              "      <td>0</td>\n",
              "      <td>36</td>\n",
              "      <td>36</td>\n",
              "      <td>0</td>\n",
              "      <td>1.0</td>\n",
              "      <td>14.0</td>\n",
              "      <td>3.0</td>\n",
              "      <td>22</td>\n",
              "      <td>11628.0</td>\n",
              "      <td>0</td>\n",
              "      <td>0</td>\n",
              "      <td>1</td>\n",
              "    </tr>\n",
              "    <tr>\n",
              "      <th>2</th>\n",
              "      <td>C5</td>\n",
              "      <td>1117</td>\n",
              "      <td>1</td>\n",
              "      <td>1</td>\n",
              "      <td>75</td>\n",
              "      <td>22</td>\n",
              "      <td>0</td>\n",
              "      <td>2.0</td>\n",
              "      <td>NaN</td>\n",
              "      <td>NaN</td>\n",
              "      <td>22</td>\n",
              "      <td>30510.0</td>\n",
              "      <td>0</td>\n",
              "      <td>53</td>\n",
              "      <td>0</td>\n",
              "    </tr>\n",
              "    <tr>\n",
              "      <th>3</th>\n",
              "      <td>C5</td>\n",
              "      <td>3732</td>\n",
              "      <td>1</td>\n",
              "      <td>0</td>\n",
              "      <td>32</td>\n",
              "      <td>32</td>\n",
              "      <td>0</td>\n",
              "      <td>NaN</td>\n",
              "      <td>1.0</td>\n",
              "      <td>1.0</td>\n",
              "      <td>19</td>\n",
              "      <td>7450.0</td>\n",
              "      <td>1</td>\n",
              "      <td>0</td>\n",
              "      <td>0</td>\n",
              "    </tr>\n",
              "    <tr>\n",
              "      <th>4</th>\n",
              "      <td>C24</td>\n",
              "      <td>4378</td>\n",
              "      <td>1</td>\n",
              "      <td>1</td>\n",
              "      <td>52</td>\n",
              "      <td>48</td>\n",
              "      <td>0</td>\n",
              "      <td>1.0</td>\n",
              "      <td>14.0</td>\n",
              "      <td>3.0</td>\n",
              "      <td>19</td>\n",
              "      <td>17780.0</td>\n",
              "      <td>0</td>\n",
              "      <td>4</td>\n",
              "      <td>1</td>\n",
              "    </tr>\n",
              "    <tr>\n",
              "      <th>5</th>\n",
              "      <td>C8</td>\n",
              "      <td>2190</td>\n",
              "      <td>0</td>\n",
              "      <td>0</td>\n",
              "      <td>44</td>\n",
              "      <td>44</td>\n",
              "      <td>0</td>\n",
              "      <td>2.0</td>\n",
              "      <td>3.0</td>\n",
              "      <td>1.0</td>\n",
              "      <td>16</td>\n",
              "      <td>10404.0</td>\n",
              "      <td>0</td>\n",
              "      <td>0</td>\n",
              "      <td>0</td>\n",
              "    </tr>\n",
              "  </tbody>\n",
              "</table>\n",
              "</div>"
            ],
            "text/plain": [
              "   City_Code  Region_Code  ...  Age_Diff  Holding_Policy_Duration_Check\n",
              "ID                         ...                                         \n",
              "1         C3         3213  ...         0                              1\n",
              "2         C5         1117  ...        53                              0\n",
              "3         C5         3732  ...         0                              0\n",
              "4        C24         4378  ...         4                              1\n",
              "5         C8         2190  ...         0                              0\n",
              "\n",
              "[5 rows x 15 columns]"
            ]
          },
          "metadata": {
            "tags": []
          },
          "execution_count": 302
        }
      ]
    },
    {
      "cell_type": "code",
      "metadata": {
        "colab": {
          "base_uri": "https://localhost:8080/",
          "height": 317
        },
        "id": "nZP2odrftEKo",
        "outputId": "237290fc-c3b0-4b3d-cdcd-cc260d0b135c"
      },
      "source": [
        "df_train.describe()"
      ],
      "execution_count": 303,
      "outputs": [
        {
          "output_type": "execute_result",
          "data": {
            "text/html": [
              "<div>\n",
              "<style scoped>\n",
              "    .dataframe tbody tr th:only-of-type {\n",
              "        vertical-align: middle;\n",
              "    }\n",
              "\n",
              "    .dataframe tbody tr th {\n",
              "        vertical-align: top;\n",
              "    }\n",
              "\n",
              "    .dataframe thead th {\n",
              "        text-align: right;\n",
              "    }\n",
              "</style>\n",
              "<table border=\"1\" class=\"dataframe\">\n",
              "  <thead>\n",
              "    <tr style=\"text-align: right;\">\n",
              "      <th></th>\n",
              "      <th>Region_Code</th>\n",
              "      <th>Accomodation_Type</th>\n",
              "      <th>Reco_Insurance_Type</th>\n",
              "      <th>Upper_Age</th>\n",
              "      <th>Lower_Age</th>\n",
              "      <th>Is_Spouse</th>\n",
              "      <th>Health_Indicator</th>\n",
              "      <th>Holding_Policy_Duration</th>\n",
              "      <th>Holding_Policy_Type</th>\n",
              "      <th>Reco_Policy_Cat</th>\n",
              "      <th>Reco_Policy_Premium</th>\n",
              "      <th>Response</th>\n",
              "      <th>Age_Diff</th>\n",
              "      <th>Holding_Policy_Duration_Check</th>\n",
              "    </tr>\n",
              "  </thead>\n",
              "  <tbody>\n",
              "    <tr>\n",
              "      <th>count</th>\n",
              "      <td>50882.000000</td>\n",
              "      <td>50882.000000</td>\n",
              "      <td>50882.000000</td>\n",
              "      <td>50882.000000</td>\n",
              "      <td>50882.000000</td>\n",
              "      <td>50882.000000</td>\n",
              "      <td>39191.000000</td>\n",
              "      <td>30631.000000</td>\n",
              "      <td>30631.000000</td>\n",
              "      <td>50882.000000</td>\n",
              "      <td>50882.000000</td>\n",
              "      <td>50882.000000</td>\n",
              "      <td>50882.000000</td>\n",
              "      <td>50882.000000</td>\n",
              "    </tr>\n",
              "    <tr>\n",
              "      <th>mean</th>\n",
              "      <td>1732.788707</td>\n",
              "      <td>0.549330</td>\n",
              "      <td>0.203333</td>\n",
              "      <td>44.856275</td>\n",
              "      <td>42.738866</td>\n",
              "      <td>0.165520</td>\n",
              "      <td>2.444694</td>\n",
              "      <td>6.015246</td>\n",
              "      <td>2.439228</td>\n",
              "      <td>15.115188</td>\n",
              "      <td>14183.950069</td>\n",
              "      <td>0.239947</td>\n",
              "      <td>2.117409</td>\n",
              "      <td>0.085197</td>\n",
              "    </tr>\n",
              "    <tr>\n",
              "      <th>std</th>\n",
              "      <td>1424.081652</td>\n",
              "      <td>0.497566</td>\n",
              "      <td>0.402482</td>\n",
              "      <td>17.310271</td>\n",
              "      <td>17.319375</td>\n",
              "      <td>0.371653</td>\n",
              "      <td>1.444843</td>\n",
              "      <td>4.501530</td>\n",
              "      <td>1.025923</td>\n",
              "      <td>6.340663</td>\n",
              "      <td>6590.074873</td>\n",
              "      <td>0.427055</td>\n",
              "      <td>6.865406</td>\n",
              "      <td>0.279178</td>\n",
              "    </tr>\n",
              "    <tr>\n",
              "      <th>min</th>\n",
              "      <td>1.000000</td>\n",
              "      <td>0.000000</td>\n",
              "      <td>0.000000</td>\n",
              "      <td>18.000000</td>\n",
              "      <td>16.000000</td>\n",
              "      <td>0.000000</td>\n",
              "      <td>1.000000</td>\n",
              "      <td>1.000000</td>\n",
              "      <td>1.000000</td>\n",
              "      <td>1.000000</td>\n",
              "      <td>2280.000000</td>\n",
              "      <td>0.000000</td>\n",
              "      <td>0.000000</td>\n",
              "      <td>0.000000</td>\n",
              "    </tr>\n",
              "    <tr>\n",
              "      <th>25%</th>\n",
              "      <td>523.000000</td>\n",
              "      <td>0.000000</td>\n",
              "      <td>0.000000</td>\n",
              "      <td>28.000000</td>\n",
              "      <td>27.000000</td>\n",
              "      <td>0.000000</td>\n",
              "      <td>1.000000</td>\n",
              "      <td>2.000000</td>\n",
              "      <td>1.000000</td>\n",
              "      <td>12.000000</td>\n",
              "      <td>9248.000000</td>\n",
              "      <td>0.000000</td>\n",
              "      <td>0.000000</td>\n",
              "      <td>0.000000</td>\n",
              "    </tr>\n",
              "    <tr>\n",
              "      <th>50%</th>\n",
              "      <td>1391.000000</td>\n",
              "      <td>1.000000</td>\n",
              "      <td>0.000000</td>\n",
              "      <td>44.000000</td>\n",
              "      <td>40.000000</td>\n",
              "      <td>0.000000</td>\n",
              "      <td>2.000000</td>\n",
              "      <td>5.000000</td>\n",
              "      <td>3.000000</td>\n",
              "      <td>17.000000</td>\n",
              "      <td>13178.000000</td>\n",
              "      <td>0.000000</td>\n",
              "      <td>0.000000</td>\n",
              "      <td>0.000000</td>\n",
              "    </tr>\n",
              "    <tr>\n",
              "      <th>75%</th>\n",
              "      <td>2667.000000</td>\n",
              "      <td>1.000000</td>\n",
              "      <td>0.000000</td>\n",
              "      <td>59.000000</td>\n",
              "      <td>57.000000</td>\n",
              "      <td>0.000000</td>\n",
              "      <td>3.000000</td>\n",
              "      <td>9.000000</td>\n",
              "      <td>3.000000</td>\n",
              "      <td>20.000000</td>\n",
              "      <td>18096.000000</td>\n",
              "      <td>0.000000</td>\n",
              "      <td>0.000000</td>\n",
              "      <td>0.000000</td>\n",
              "    </tr>\n",
              "    <tr>\n",
              "      <th>max</th>\n",
              "      <td>6194.000000</td>\n",
              "      <td>1.000000</td>\n",
              "      <td>1.000000</td>\n",
              "      <td>75.000000</td>\n",
              "      <td>75.000000</td>\n",
              "      <td>1.000000</td>\n",
              "      <td>9.000000</td>\n",
              "      <td>14.000000</td>\n",
              "      <td>4.000000</td>\n",
              "      <td>22.000000</td>\n",
              "      <td>43350.400000</td>\n",
              "      <td>1.000000</td>\n",
              "      <td>59.000000</td>\n",
              "      <td>1.000000</td>\n",
              "    </tr>\n",
              "  </tbody>\n",
              "</table>\n",
              "</div>"
            ],
            "text/plain": [
              "        Region_Code  ...  Holding_Policy_Duration_Check\n",
              "count  50882.000000  ...                   50882.000000\n",
              "mean    1732.788707  ...                       0.085197\n",
              "std     1424.081652  ...                       0.279178\n",
              "min        1.000000  ...                       0.000000\n",
              "25%      523.000000  ...                       0.000000\n",
              "50%     1391.000000  ...                       0.000000\n",
              "75%     2667.000000  ...                       0.000000\n",
              "max     6194.000000  ...                       1.000000\n",
              "\n",
              "[8 rows x 14 columns]"
            ]
          },
          "metadata": {
            "tags": []
          },
          "execution_count": 303
        }
      ]
    },
    {
      "cell_type": "code",
      "metadata": {
        "colab": {
          "base_uri": "https://localhost:8080/"
        },
        "id": "t8Ra5oKwpDTb",
        "outputId": "fb855a86-1c02-47ab-ed21-03e46142caa4"
      },
      "source": [
        "print(df_train.shape)\r\n",
        "print(df_test.shape)"
      ],
      "execution_count": 304,
      "outputs": [
        {
          "output_type": "stream",
          "text": [
            "(50882, 15)\n",
            "(21805, 14)\n"
          ],
          "name": "stdout"
        }
      ]
    },
    {
      "cell_type": "code",
      "metadata": {
        "colab": {
          "base_uri": "https://localhost:8080/"
        },
        "id": "ebjp8CU6Iuku",
        "outputId": "bd8fd3ed-b7b1-4e2e-8009-46503ff413de"
      },
      "source": [
        "print(df_train['Holding_Policy_Duration'].mode())\r\n",
        "data_pie = df_train.Holding_Policy_Duration.value_counts()\r\n",
        "print(data_pie)"
      ],
      "execution_count": 305,
      "outputs": [
        {
          "output_type": "stream",
          "text": [
            "0    14.0\n",
            "dtype: float32\n",
            "14.0    4801\n",
            "1.0     4499\n",
            "2.0     4260\n",
            "3.0     3586\n",
            "4.0     2771\n",
            "5.0     2362\n",
            "6.0     1894\n",
            "7.0     1645\n",
            "8.0     1316\n",
            "9.0     1114\n",
            "10.0     813\n",
            "11.0     546\n",
            "12.0     513\n",
            "13.0     511\n",
            "Name: Holding_Policy_Duration, dtype: int64\n"
          ],
          "name": "stdout"
        }
      ]
    },
    {
      "cell_type": "code",
      "metadata": {
        "colab": {
          "base_uri": "https://localhost:8080/"
        },
        "id": "Pea3u2um0gyG",
        "outputId": "39783411-52d6-46eb-9e8e-73b4468c38c4"
      },
      "source": [
        "grouped_df = df_train.groupby(\"City_Code\")\r\n",
        "grouped_df = grouped_df.agg({\"Region_Code\": \"nunique\"})\r\n",
        "grouped_df = grouped_df.reset_index()\r\n",
        "print(grouped_df)\r\n",
        "print(grouped_df.Region_Code.sum())\r\n",
        "print(len(df_train.Region_Code.unique()))"
      ],
      "execution_count": 306,
      "outputs": [
        {
          "output_type": "stream",
          "text": [
            "   City_Code  Region_Code\n",
            "0         C1          741\n",
            "1        C10          117\n",
            "2        C11          113\n",
            "3        C12           85\n",
            "4        C13          102\n",
            "5        C14           90\n",
            "6        C15          121\n",
            "7        C16          107\n",
            "8        C17          125\n",
            "9        C18           91\n",
            "10       C19          108\n",
            "11        C2          858\n",
            "12       C20          115\n",
            "13       C21          288\n",
            "14       C22           35\n",
            "15       C23           47\n",
            "16       C24           88\n",
            "17       C25           51\n",
            "18       C26           48\n",
            "19       C27           44\n",
            "20       C28           55\n",
            "21       C29           33\n",
            "22        C3          441\n",
            "23       C30            7\n",
            "24       C31            9\n",
            "25       C32           26\n",
            "26       C33           36\n",
            "27       C34           11\n",
            "28       C35           13\n",
            "29       C36            4\n",
            "30        C4          328\n",
            "31        C5          158\n",
            "32        C6          179\n",
            "33        C7          204\n",
            "34        C8          239\n",
            "35        C9          199\n",
            "5316\n",
            "5316\n"
          ],
          "name": "stdout"
        }
      ]
    },
    {
      "cell_type": "code",
      "metadata": {
        "colab": {
          "base_uri": "https://localhost:8080/"
        },
        "id": "jdC1F3yU3RFP",
        "outputId": "03fa8e0d-b92f-47d6-edf5-dc580e236634"
      },
      "source": [
        "# Checking the percentage of NaN Values in the columns\r\n",
        "nan_cols = ['Health_Indicator','Holding_Policy_Duration','Holding_Policy_Type']\r\n",
        "b = df_train.shape[0]\r\n",
        "for x in nan_cols:\r\n",
        "  a = df_train[x].isna().sum()\r\n",
        "  \r\n",
        "  percent = (a/b)*100\r\n",
        "  print(x, percent)"
      ],
      "execution_count": 307,
      "outputs": [
        {
          "output_type": "stream",
          "text": [
            "Health_Indicator 22.97669116780001\n",
            "Holding_Policy_Duration 39.799929248064146\n",
            "Holding_Policy_Type 39.799929248064146\n"
          ],
          "name": "stdout"
        }
      ]
    },
    {
      "cell_type": "code",
      "metadata": {
        "id": "PAmPhgEa4Fzw",
        "colab": {
          "base_uri": "https://localhost:8080/",
          "height": 741
        },
        "outputId": "8afc107f-c338-490e-a390-cb4e1e42b21e"
      },
      "source": [
        "# Checking the value distribution of some columns\r\n",
        "cols_for_counts = ['Health_Indicator','Holding_Policy_Duration','Holding_Policy_Type','Response']\r\n",
        "data_pie_Health_Indicator = df_train['Health_Indicator'].value_counts()\r\n",
        "data_pie_Policy_Duration = df_train['Holding_Policy_Duration'].value_counts()\r\n",
        "#data_pie_Policy_Type = df_train['Holding_Policy_Type'].value_counts()\r\n",
        "data_pie_Response = df_train['Response'].value_counts()\r\n",
        "#print(data_pie_Health_Indicator.plot.pie(autopct=\"%.1f%%\"))\r\n",
        "print(data_pie_Health_Indicator)\r\n",
        "#print(data_pie_Policy_Duration.plot.pie(autopct=\"%.1f%%\"))\r\n",
        "print(data_pie_Policy_Duration)\r\n",
        "#print(data_pie_Policy_Type.plot.pie(autopct=\"%.1f%%\"))\r\n",
        "#print(data_pie_Policy_Type)\r\n",
        "print(data_pie_Response.plot.pie(autopct=\"%.1f%%\"))\r\n",
        "print(data_pie_Response)\r\n",
        "\r\n"
      ],
      "execution_count": 308,
      "outputs": [
        {
          "output_type": "stream",
          "text": [
            "1.0    13010\n",
            "2.0    10332\n",
            "3.0     6762\n",
            "4.0     5743\n",
            "5.0     1727\n",
            "6.0     1280\n",
            "7.0      196\n",
            "8.0       78\n",
            "9.0       63\n",
            "Name: Health_Indicator, dtype: int64\n",
            "14.0    4801\n",
            "1.0     4499\n",
            "2.0     4260\n",
            "3.0     3586\n",
            "4.0     2771\n",
            "5.0     2362\n",
            "6.0     1894\n",
            "7.0     1645\n",
            "8.0     1316\n",
            "9.0     1114\n",
            "10.0     813\n",
            "11.0     546\n",
            "12.0     513\n",
            "13.0     511\n",
            "Name: Holding_Policy_Duration, dtype: int64\n",
            "AxesSubplot(0.260833,0.125;0.503333x0.755)\n",
            "0    38673\n",
            "1    12209\n",
            "Name: Response, dtype: int64\n"
          ],
          "name": "stdout"
        },
        {
          "output_type": "display_data",
          "data": {
            "image/png": "[encoded data removed]",
            "text/plain": [
              "<Figure size 432x288 with 1 Axes>"
            ]
          },
          "metadata": {
            "tags": []
          }
        }
      ]
    },
    {
      "cell_type": "code",
      "metadata": {
        "colab": {
          "base_uri": "https://localhost:8080/",
          "height": 544
        },
        "id": "eNkeVmAED4Cv",
        "outputId": "d1e12c8f-c6e5-445e-b60c-d7230e217829"
      },
      "source": [
        "# Generating HeatMap of the data to check the correlation values\r\n",
        "plt.figure(figsize=(16, 6))\r\n",
        "heatmap = sns.heatmap(df_train.corr(), vmin=-1, vmax=1, annot=True, cmap='BrBG')\r\n",
        "heatmap.set_title('Correlation Heatmap', fontdict={'fontsize':18}, pad=12)"
      ],
      "execution_count": 309,
      "outputs": [
        {
          "output_type": "execute_result",
          "data": {
            "text/plain": [
              "Text(0.5, 1.0, 'Correlation Heatmap')"
            ]
          },
          "metadata": {
            "tags": []
          },
          "execution_count": 309
        },
        {
          "output_type": "display_data",
          "data": {
            "image/png": "[encoded data removed]",
            "text/plain": [
              "<Figure size 1152x432 with 2 Axes>"
            ]
          },
          "metadata": {
            "tags": []
          }
        }
      ]
    },
    {
      "cell_type": "code",
      "metadata": {
        "colab": {
          "base_uri": "https://localhost:8080/",
          "height": 255
        },
        "id": "gH2e2vxSEisw",
        "outputId": "38b35a91-450f-4137-fb7f-c37c25535516"
      },
      "source": [
        "df_train.head(5)"
      ],
      "execution_count": 310,
      "outputs": [
        {
          "output_type": "execute_result",
          "data": {
            "text/html": [
              "<div>\n",
              "<style scoped>\n",
              "    .dataframe tbody tr th:only-of-type {\n",
              "        vertical-align: middle;\n",
              "    }\n",
              "\n",
              "    .dataframe tbody tr th {\n",
              "        vertical-align: top;\n",
              "    }\n",
              "\n",
              "    .dataframe thead th {\n",
              "        text-align: right;\n",
              "    }\n",
              "</style>\n",
              "<table border=\"1\" class=\"dataframe\">\n",
              "  <thead>\n",
              "    <tr style=\"text-align: right;\">\n",
              "      <th></th>\n",
              "      <th>City_Code</th>\n",
              "      <th>Region_Code</th>\n",
              "      <th>Accomodation_Type</th>\n",
              "      <th>Reco_Insurance_Type</th>\n",
              "      <th>Upper_Age</th>\n",
              "      <th>Lower_Age</th>\n",
              "      <th>Is_Spouse</th>\n",
              "      <th>Health_Indicator</th>\n",
              "      <th>Holding_Policy_Duration</th>\n",
              "      <th>Holding_Policy_Type</th>\n",
              "      <th>Reco_Policy_Cat</th>\n",
              "      <th>Reco_Policy_Premium</th>\n",
              "      <th>Response</th>\n",
              "      <th>Age_Diff</th>\n",
              "      <th>Holding_Policy_Duration_Check</th>\n",
              "    </tr>\n",
              "    <tr>\n",
              "      <th>ID</th>\n",
              "      <th></th>\n",
              "      <th></th>\n",
              "      <th></th>\n",
              "      <th></th>\n",
              "      <th></th>\n",
              "      <th></th>\n",
              "      <th></th>\n",
              "      <th></th>\n",
              "      <th></th>\n",
              "      <th></th>\n",
              "      <th></th>\n",
              "      <th></th>\n",
              "      <th></th>\n",
              "      <th></th>\n",
              "      <th></th>\n",
              "    </tr>\n",
              "  </thead>\n",
              "  <tbody>\n",
              "    <tr>\n",
              "      <th>1</th>\n",
              "      <td>C3</td>\n",
              "      <td>3213</td>\n",
              "      <td>0</td>\n",
              "      <td>0</td>\n",
              "      <td>36</td>\n",
              "      <td>36</td>\n",
              "      <td>0</td>\n",
              "      <td>1.0</td>\n",
              "      <td>14.0</td>\n",
              "      <td>3.0</td>\n",
              "      <td>22</td>\n",
              "      <td>11628.0</td>\n",
              "      <td>0</td>\n",
              "      <td>0</td>\n",
              "      <td>1</td>\n",
              "    </tr>\n",
              "    <tr>\n",
              "      <th>2</th>\n",
              "      <td>C5</td>\n",
              "      <td>1117</td>\n",
              "      <td>1</td>\n",
              "      <td>1</td>\n",
              "      <td>75</td>\n",
              "      <td>22</td>\n",
              "      <td>0</td>\n",
              "      <td>2.0</td>\n",
              "      <td>NaN</td>\n",
              "      <td>NaN</td>\n",
              "      <td>22</td>\n",
              "      <td>30510.0</td>\n",
              "      <td>0</td>\n",
              "      <td>53</td>\n",
              "      <td>0</td>\n",
              "    </tr>\n",
              "    <tr>\n",
              "      <th>3</th>\n",
              "      <td>C5</td>\n",
              "      <td>3732</td>\n",
              "      <td>1</td>\n",
              "      <td>0</td>\n",
              "      <td>32</td>\n",
              "      <td>32</td>\n",
              "      <td>0</td>\n",
              "      <td>NaN</td>\n",
              "      <td>1.0</td>\n",
              "      <td>1.0</td>\n",
              "      <td>19</td>\n",
              "      <td>7450.0</td>\n",
              "      <td>1</td>\n",
              "      <td>0</td>\n",
              "      <td>0</td>\n",
              "    </tr>\n",
              "    <tr>\n",
              "      <th>4</th>\n",
              "      <td>C24</td>\n",
              "      <td>4378</td>\n",
              "      <td>1</td>\n",
              "      <td>1</td>\n",
              "      <td>52</td>\n",
              "      <td>48</td>\n",
              "      <td>0</td>\n",
              "      <td>1.0</td>\n",
              "      <td>14.0</td>\n",
              "      <td>3.0</td>\n",
              "      <td>19</td>\n",
              "      <td>17780.0</td>\n",
              "      <td>0</td>\n",
              "      <td>4</td>\n",
              "      <td>1</td>\n",
              "    </tr>\n",
              "    <tr>\n",
              "      <th>5</th>\n",
              "      <td>C8</td>\n",
              "      <td>2190</td>\n",
              "      <td>0</td>\n",
              "      <td>0</td>\n",
              "      <td>44</td>\n",
              "      <td>44</td>\n",
              "      <td>0</td>\n",
              "      <td>2.0</td>\n",
              "      <td>3.0</td>\n",
              "      <td>1.0</td>\n",
              "      <td>16</td>\n",
              "      <td>10404.0</td>\n",
              "      <td>0</td>\n",
              "      <td>0</td>\n",
              "      <td>0</td>\n",
              "    </tr>\n",
              "  </tbody>\n",
              "</table>\n",
              "</div>"
            ],
            "text/plain": [
              "   City_Code  Region_Code  ...  Age_Diff  Holding_Policy_Duration_Check\n",
              "ID                         ...                                         \n",
              "1         C3         3213  ...         0                              1\n",
              "2         C5         1117  ...        53                              0\n",
              "3         C5         3732  ...         0                              0\n",
              "4        C24         4378  ...         4                              1\n",
              "5         C8         2190  ...         0                              0\n",
              "\n",
              "[5 rows x 15 columns]"
            ]
          },
          "metadata": {
            "tags": []
          },
          "execution_count": 310
        }
      ]
    },
    {
      "cell_type": "code",
      "metadata": {
        "id": "LnkI3-1BEvoN",
        "colab": {
          "base_uri": "https://localhost:8080/"
        },
        "outputId": "7c0e3023-e2a4-45e4-b255-b985967b34d6"
      },
      "source": [
        "# Checking the different Region Codes in both Train and Test\r\n",
        "check_train = df_train['Region_Code'].unique()\r\n",
        "check_test = df_test['Region_Code'].unique()\r\n",
        "print(check_train)\r\n",
        "\r\n",
        "count_false=0\r\n",
        "count_true=0\r\n",
        "for x in check_test:\r\n",
        "  if x in check_train:\r\n",
        "    count_true =+ 1\r\n",
        "  else:\r\n",
        "    count_false =+ 1\r\n",
        "\r\n",
        "print(count_false)"
      ],
      "execution_count": 311,
      "outputs": [
        {
          "output_type": "stream",
          "text": [
            "[3213 1117 3732 ... 5326 6149 5450]\n",
            "1\n"
          ],
          "name": "stdout"
        }
      ]
    },
    {
      "cell_type": "code",
      "metadata": {
        "colab": {
          "base_uri": "https://localhost:8080/"
        },
        "id": "krb5OWF-p5dc",
        "outputId": "1e8ae37f-beac-4f9a-f96c-9d80d57cd1a7"
      },
      "source": [
        "print(df_train.shape)\r\n",
        "print(df_test.shape)"
      ],
      "execution_count": 312,
      "outputs": [
        {
          "output_type": "stream",
          "text": [
            "(50882, 15)\n",
            "(21805, 14)\n"
          ],
          "name": "stdout"
        }
      ]
    },
    {
      "cell_type": "code",
      "metadata": {
        "colab": {
          "base_uri": "https://localhost:8080/",
          "height": 255
        },
        "id": "OdymmkZSmZ0f",
        "outputId": "2bd16d6d-fb4e-4236-bd79-6ef9ddd81cf0"
      },
      "source": [
        "df_train.head()"
      ],
      "execution_count": 313,
      "outputs": [
        {
          "output_type": "execute_result",
          "data": {
            "text/html": [
              "<div>\n",
              "<style scoped>\n",
              "    .dataframe tbody tr th:only-of-type {\n",
              "        vertical-align: middle;\n",
              "    }\n",
              "\n",
              "    .dataframe tbody tr th {\n",
              "        vertical-align: top;\n",
              "    }\n",
              "\n",
              "    .dataframe thead th {\n",
              "        text-align: right;\n",
              "    }\n",
              "</style>\n",
              "<table border=\"1\" class=\"dataframe\">\n",
              "  <thead>\n",
              "    <tr style=\"text-align: right;\">\n",
              "      <th></th>\n",
              "      <th>City_Code</th>\n",
              "      <th>Region_Code</th>\n",
              "      <th>Accomodation_Type</th>\n",
              "      <th>Reco_Insurance_Type</th>\n",
              "      <th>Upper_Age</th>\n",
              "      <th>Lower_Age</th>\n",
              "      <th>Is_Spouse</th>\n",
              "      <th>Health_Indicator</th>\n",
              "      <th>Holding_Policy_Duration</th>\n",
              "      <th>Holding_Policy_Type</th>\n",
              "      <th>Reco_Policy_Cat</th>\n",
              "      <th>Reco_Policy_Premium</th>\n",
              "      <th>Response</th>\n",
              "      <th>Age_Diff</th>\n",
              "      <th>Holding_Policy_Duration_Check</th>\n",
              "    </tr>\n",
              "    <tr>\n",
              "      <th>ID</th>\n",
              "      <th></th>\n",
              "      <th></th>\n",
              "      <th></th>\n",
              "      <th></th>\n",
              "      <th></th>\n",
              "      <th></th>\n",
              "      <th></th>\n",
              "      <th></th>\n",
              "      <th></th>\n",
              "      <th></th>\n",
              "      <th></th>\n",
              "      <th></th>\n",
              "      <th></th>\n",
              "      <th></th>\n",
              "      <th></th>\n",
              "    </tr>\n",
              "  </thead>\n",
              "  <tbody>\n",
              "    <tr>\n",
              "      <th>1</th>\n",
              "      <td>C3</td>\n",
              "      <td>3213</td>\n",
              "      <td>0</td>\n",
              "      <td>0</td>\n",
              "      <td>36</td>\n",
              "      <td>36</td>\n",
              "      <td>0</td>\n",
              "      <td>1.0</td>\n",
              "      <td>14.0</td>\n",
              "      <td>3.0</td>\n",
              "      <td>22</td>\n",
              "      <td>11628.0</td>\n",
              "      <td>0</td>\n",
              "      <td>0</td>\n",
              "      <td>1</td>\n",
              "    </tr>\n",
              "    <tr>\n",
              "      <th>2</th>\n",
              "      <td>C5</td>\n",
              "      <td>1117</td>\n",
              "      <td>1</td>\n",
              "      <td>1</td>\n",
              "      <td>75</td>\n",
              "      <td>22</td>\n",
              "      <td>0</td>\n",
              "      <td>2.0</td>\n",
              "      <td>NaN</td>\n",
              "      <td>NaN</td>\n",
              "      <td>22</td>\n",
              "      <td>30510.0</td>\n",
              "      <td>0</td>\n",
              "      <td>53</td>\n",
              "      <td>0</td>\n",
              "    </tr>\n",
              "    <tr>\n",
              "      <th>3</th>\n",
              "      <td>C5</td>\n",
              "      <td>3732</td>\n",
              "      <td>1</td>\n",
              "      <td>0</td>\n",
              "      <td>32</td>\n",
              "      <td>32</td>\n",
              "      <td>0</td>\n",
              "      <td>NaN</td>\n",
              "      <td>1.0</td>\n",
              "      <td>1.0</td>\n",
              "      <td>19</td>\n",
              "      <td>7450.0</td>\n",
              "      <td>1</td>\n",
              "      <td>0</td>\n",
              "      <td>0</td>\n",
              "    </tr>\n",
              "    <tr>\n",
              "      <th>4</th>\n",
              "      <td>C24</td>\n",
              "      <td>4378</td>\n",
              "      <td>1</td>\n",
              "      <td>1</td>\n",
              "      <td>52</td>\n",
              "      <td>48</td>\n",
              "      <td>0</td>\n",
              "      <td>1.0</td>\n",
              "      <td>14.0</td>\n",
              "      <td>3.0</td>\n",
              "      <td>19</td>\n",
              "      <td>17780.0</td>\n",
              "      <td>0</td>\n",
              "      <td>4</td>\n",
              "      <td>1</td>\n",
              "    </tr>\n",
              "    <tr>\n",
              "      <th>5</th>\n",
              "      <td>C8</td>\n",
              "      <td>2190</td>\n",
              "      <td>0</td>\n",
              "      <td>0</td>\n",
              "      <td>44</td>\n",
              "      <td>44</td>\n",
              "      <td>0</td>\n",
              "      <td>2.0</td>\n",
              "      <td>3.0</td>\n",
              "      <td>1.0</td>\n",
              "      <td>16</td>\n",
              "      <td>10404.0</td>\n",
              "      <td>0</td>\n",
              "      <td>0</td>\n",
              "      <td>0</td>\n",
              "    </tr>\n",
              "  </tbody>\n",
              "</table>\n",
              "</div>"
            ],
            "text/plain": [
              "   City_Code  Region_Code  ...  Age_Diff  Holding_Policy_Duration_Check\n",
              "ID                         ...                                         \n",
              "1         C3         3213  ...         0                              1\n",
              "2         C5         1117  ...        53                              0\n",
              "3         C5         3732  ...         0                              0\n",
              "4        C24         4378  ...         4                              1\n",
              "5         C8         2190  ...         0                              0\n",
              "\n",
              "[5 rows x 15 columns]"
            ]
          },
          "metadata": {
            "tags": []
          },
          "execution_count": 313
        }
      ]
    },
    {
      "cell_type": "code",
      "metadata": {
        "colab": {
          "base_uri": "https://localhost:8080/",
          "height": 255
        },
        "id": "xxM1zQjbrJ_u",
        "outputId": "e283e3f3-c865-4e32-bf33-e4b8243c30fe"
      },
      "source": [
        "df_train[df_train['Upper_Age']>70].head(5)"
      ],
      "execution_count": 314,
      "outputs": [
        {
          "output_type": "execute_result",
          "data": {
            "text/html": [
              "<div>\n",
              "<style scoped>\n",
              "    .dataframe tbody tr th:only-of-type {\n",
              "        vertical-align: middle;\n",
              "    }\n",
              "\n",
              "    .dataframe tbody tr th {\n",
              "        vertical-align: top;\n",
              "    }\n",
              "\n",
              "    .dataframe thead th {\n",
              "        text-align: right;\n",
              "    }\n",
              "</style>\n",
              "<table border=\"1\" class=\"dataframe\">\n",
              "  <thead>\n",
              "    <tr style=\"text-align: right;\">\n",
              "      <th></th>\n",
              "      <th>City_Code</th>\n",
              "      <th>Region_Code</th>\n",
              "      <th>Accomodation_Type</th>\n",
              "      <th>Reco_Insurance_Type</th>\n",
              "      <th>Upper_Age</th>\n",
              "      <th>Lower_Age</th>\n",
              "      <th>Is_Spouse</th>\n",
              "      <th>Health_Indicator</th>\n",
              "      <th>Holding_Policy_Duration</th>\n",
              "      <th>Holding_Policy_Type</th>\n",
              "      <th>Reco_Policy_Cat</th>\n",
              "      <th>Reco_Policy_Premium</th>\n",
              "      <th>Response</th>\n",
              "      <th>Age_Diff</th>\n",
              "      <th>Holding_Policy_Duration_Check</th>\n",
              "    </tr>\n",
              "    <tr>\n",
              "      <th>ID</th>\n",
              "      <th></th>\n",
              "      <th></th>\n",
              "      <th></th>\n",
              "      <th></th>\n",
              "      <th></th>\n",
              "      <th></th>\n",
              "      <th></th>\n",
              "      <th></th>\n",
              "      <th></th>\n",
              "      <th></th>\n",
              "      <th></th>\n",
              "      <th></th>\n",
              "      <th></th>\n",
              "      <th></th>\n",
              "      <th></th>\n",
              "    </tr>\n",
              "  </thead>\n",
              "  <tbody>\n",
              "    <tr>\n",
              "      <th>2</th>\n",
              "      <td>C5</td>\n",
              "      <td>1117</td>\n",
              "      <td>1</td>\n",
              "      <td>1</td>\n",
              "      <td>75</td>\n",
              "      <td>22</td>\n",
              "      <td>0</td>\n",
              "      <td>2.0</td>\n",
              "      <td>NaN</td>\n",
              "      <td>NaN</td>\n",
              "      <td>22</td>\n",
              "      <td>30510.0</td>\n",
              "      <td>0</td>\n",
              "      <td>53</td>\n",
              "      <td>0</td>\n",
              "    </tr>\n",
              "    <tr>\n",
              "      <th>8</th>\n",
              "      <td>C1</td>\n",
              "      <td>3175</td>\n",
              "      <td>1</td>\n",
              "      <td>1</td>\n",
              "      <td>75</td>\n",
              "      <td>73</td>\n",
              "      <td>1</td>\n",
              "      <td>4.0</td>\n",
              "      <td>9.0</td>\n",
              "      <td>4.0</td>\n",
              "      <td>17</td>\n",
              "      <td>29344.0</td>\n",
              "      <td>1</td>\n",
              "      <td>2</td>\n",
              "      <td>0</td>\n",
              "    </tr>\n",
              "    <tr>\n",
              "      <th>45</th>\n",
              "      <td>C27</td>\n",
              "      <td>811</td>\n",
              "      <td>1</td>\n",
              "      <td>0</td>\n",
              "      <td>75</td>\n",
              "      <td>75</td>\n",
              "      <td>0</td>\n",
              "      <td>1.0</td>\n",
              "      <td>NaN</td>\n",
              "      <td>NaN</td>\n",
              "      <td>20</td>\n",
              "      <td>22762.0</td>\n",
              "      <td>0</td>\n",
              "      <td>0</td>\n",
              "      <td>0</td>\n",
              "    </tr>\n",
              "    <tr>\n",
              "      <th>48</th>\n",
              "      <td>C4</td>\n",
              "      <td>4373</td>\n",
              "      <td>0</td>\n",
              "      <td>0</td>\n",
              "      <td>71</td>\n",
              "      <td>71</td>\n",
              "      <td>0</td>\n",
              "      <td>NaN</td>\n",
              "      <td>14.0</td>\n",
              "      <td>3.0</td>\n",
              "      <td>18</td>\n",
              "      <td>15678.0</td>\n",
              "      <td>0</td>\n",
              "      <td>0</td>\n",
              "      <td>1</td>\n",
              "    </tr>\n",
              "    <tr>\n",
              "      <th>50</th>\n",
              "      <td>C1</td>\n",
              "      <td>85</td>\n",
              "      <td>1</td>\n",
              "      <td>1</td>\n",
              "      <td>73</td>\n",
              "      <td>68</td>\n",
              "      <td>1</td>\n",
              "      <td>2.0</td>\n",
              "      <td>7.0</td>\n",
              "      <td>4.0</td>\n",
              "      <td>21</td>\n",
              "      <td>31692.8</td>\n",
              "      <td>0</td>\n",
              "      <td>5</td>\n",
              "      <td>0</td>\n",
              "    </tr>\n",
              "  </tbody>\n",
              "</table>\n",
              "</div>"
            ],
            "text/plain": [
              "   City_Code  Region_Code  ...  Age_Diff  Holding_Policy_Duration_Check\n",
              "ID                         ...                                         \n",
              "2         C5         1117  ...        53                              0\n",
              "8         C1         3175  ...         2                              0\n",
              "45       C27          811  ...         0                              0\n",
              "48        C4         4373  ...         0                              1\n",
              "50        C1           85  ...         5                              0\n",
              "\n",
              "[5 rows x 15 columns]"
            ]
          },
          "metadata": {
            "tags": []
          },
          "execution_count": 314
        }
      ]
    },
    {
      "cell_type": "code",
      "metadata": {
        "colab": {
          "base_uri": "https://localhost:8080/"
        },
        "id": "X7u6D456uLkU",
        "outputId": "572514a4-b224-4f82-f608-12a9f8f05515"
      },
      "source": [
        "corr_matrix = df_train.corr()\r\n",
        "print(corr_matrix[\"Holding_Policy_Duration\"].sort_values(ascending=False))\r\n",
        "print(corr_matrix[\"Holding_Policy_Type\"].sort_values(ascending=False))"
      ],
      "execution_count": 315,
      "outputs": [
        {
          "output_type": "stream",
          "text": [
            "Holding_Policy_Duration          1.000000\n",
            "Holding_Policy_Duration_Check    0.720190\n",
            "Upper_Age                        0.352075\n",
            "Lower_Age                        0.306348\n",
            "Reco_Policy_Premium              0.247903\n",
            "Accomodation_Type                0.208926\n",
            "Holding_Policy_Type              0.132984\n",
            "Reco_Insurance_Type              0.076285\n",
            "Age_Diff                         0.074715\n",
            "Is_Spouse                        0.067845\n",
            "Reco_Policy_Cat                  0.043925\n",
            "Region_Code                      0.024317\n",
            "Response                         0.021965\n",
            "Health_Indicator                 0.016061\n",
            "Name: Holding_Policy_Duration, dtype: float64\n",
            "Holding_Policy_Type              1.000000\n",
            "Accomodation_Type                0.151030\n",
            "Upper_Age                        0.141890\n",
            "Holding_Policy_Duration          0.132984\n",
            "Reco_Policy_Premium              0.121342\n",
            "Lower_Age                        0.118028\n",
            "Is_Spouse                        0.090459\n",
            "Holding_Policy_Duration_Check    0.088826\n",
            "Reco_Insurance_Type              0.082445\n",
            "Reco_Policy_Cat                  0.079678\n",
            "Health_Indicator                 0.059871\n",
            "Age_Diff                         0.042164\n",
            "Region_Code                      0.011599\n",
            "Response                         0.009297\n",
            "Name: Holding_Policy_Type, dtype: float64\n"
          ],
          "name": "stdout"
        }
      ]
    },
    {
      "cell_type": "markdown",
      "metadata": {
        "id": "69CybGH1ZlYK"
      },
      "source": [
        "Filling NaN Values"
      ]
    },
    {
      "cell_type": "code",
      "metadata": {
        "colab": {
          "base_uri": "https://localhost:8080/"
        },
        "id": "xb67lyE0o7_W",
        "outputId": "7c19470b-8eae-4336-efb1-fa1dfa5fb0cb"
      },
      "source": [
        "print(df_train.shape)\r\n",
        "print(df_test.shape)"
      ],
      "execution_count": 316,
      "outputs": [
        {
          "output_type": "stream",
          "text": [
            "(50882, 15)\n",
            "(21805, 14)\n"
          ],
          "name": "stdout"
        }
      ]
    },
    {
      "cell_type": "code",
      "metadata": {
        "colab": {
          "base_uri": "https://localhost:8080/"
        },
        "id": "JERhV3PIGksO",
        "outputId": "d589881a-33a6-45ec-cff8-44f4fde0d0e3"
      },
      "source": [
        "print(df_train['Health_Indicator'].mean(),df_train['Health_Indicator'].median(),df_train['Health_Indicator'].mode() )\r\n",
        "print(df_train['Holding_Policy_Type'].mean(),df_train['Holding_Policy_Type'].median(),df_train['Holding_Policy_Type'].mode())\r\n",
        "print(df_train['Holding_Policy_Duration'].mean(),df_train['Holding_Policy_Duration'].median(),df_train['Holding_Policy_Duration'].mode())"
      ],
      "execution_count": 317,
      "outputs": [
        {
          "output_type": "stream",
          "text": [
            "2.4446939348319767 2.0 0    1.0\n",
            "dtype: float64\n",
            "2.4392282328360158 3.0 0    3.0\n",
            "dtype: float64\n",
            "6.0152459144592285 5.0 0    14.0\n",
            "dtype: float32\n"
          ],
          "name": "stdout"
        }
      ]
    },
    {
      "cell_type": "code",
      "metadata": {
        "id": "vIt31z35wOmL"
      },
      "source": [
        "#Filling NaN values for the necessary columns\r\n",
        "df_train['Health_Indicator'].fillna(round(df_train['Health_Indicator'].mean()), inplace=True)\r\n",
        "df_train['Holding_Policy_Duration'].fillna(df_train['Holding_Policy_Duration'].median(), inplace=True)\r\n",
        "df_train['Holding_Policy_Type'].fillna(df_train['Holding_Policy_Type'].median(), inplace=True)\r\n",
        "\r\n",
        "df_test['Health_Indicator'].fillna(round(df_train['Health_Indicator'].mean()), inplace=True)\r\n",
        "df_test['Holding_Policy_Duration'].fillna(df_train['Holding_Policy_Duration'].median(), inplace=True)\r\n",
        "df_test['Holding_Policy_Type'].fillna(df_test['Holding_Policy_Type'].median(), inplace=True)"
      ],
      "execution_count": 318,
      "outputs": []
    },
    {
      "cell_type": "code",
      "metadata": {
        "colab": {
          "base_uri": "https://localhost:8080/"
        },
        "id": "knk9f18O0BdO",
        "outputId": "46889b66-b7da-4725-92f0-c172a478832a"
      },
      "source": [
        "df_train.info()"
      ],
      "execution_count": 319,
      "outputs": [
        {
          "output_type": "stream",
          "text": [
            "<class 'pandas.core.frame.DataFrame'>\n",
            "Int64Index: 50882 entries, 1 to 50882\n",
            "Data columns (total 15 columns):\n",
            " #   Column                         Non-Null Count  Dtype  \n",
            "---  ------                         --------------  -----  \n",
            " 0   City_Code                      50882 non-null  object \n",
            " 1   Region_Code                    50882 non-null  int64  \n",
            " 2   Accomodation_Type              50882 non-null  int64  \n",
            " 3   Reco_Insurance_Type            50882 non-null  int64  \n",
            " 4   Upper_Age                      50882 non-null  int64  \n",
            " 5   Lower_Age                      50882 non-null  int64  \n",
            " 6   Is_Spouse                      50882 non-null  int64  \n",
            " 7   Health_Indicator               50882 non-null  float64\n",
            " 8   Holding_Policy_Duration        50882 non-null  float32\n",
            " 9   Holding_Policy_Type            50882 non-null  float64\n",
            " 10  Reco_Policy_Cat                50882 non-null  int64  \n",
            " 11  Reco_Policy_Premium            50882 non-null  float64\n",
            " 12  Response                       50882 non-null  int64  \n",
            " 13  Age_Diff                       50882 non-null  int64  \n",
            " 14  Holding_Policy_Duration_Check  50882 non-null  int64  \n",
            "dtypes: float32(1), float64(3), int64(10), object(1)\n",
            "memory usage: 6.0+ MB\n"
          ],
          "name": "stdout"
        }
      ]
    },
    {
      "cell_type": "code",
      "metadata": {
        "colab": {
          "base_uri": "https://localhost:8080/"
        },
        "id": "0Q79v1rv0KG5",
        "outputId": "108f7761-17b0-4af7-eaf7-8da5139ee35c"
      },
      "source": [
        "print(df_train['Holding_Policy_Duration'].unique())\r\n",
        "print(df_train['Holding_Policy_Type'].unique())\r\n",
        "print(df_train['Health_Indicator'].unique())"
      ],
      "execution_count": 320,
      "outputs": [
        {
          "output_type": "stream",
          "text": [
            "[14.  5.  1.  3.  9.  7.  2. 11. 10.  8.  6.  4. 13. 12.]\n",
            "[3. 1. 4. 2.]\n",
            "[1. 2. 4. 3. 6. 5. 8. 7. 9.]\n"
          ],
          "name": "stdout"
        }
      ]
    },
    {
      "cell_type": "code",
      "metadata": {
        "colab": {
          "base_uri": "https://localhost:8080/",
          "height": 255
        },
        "id": "amDYv4UYE8mC",
        "outputId": "59d8aec0-1caa-4b0c-902a-d48a4704eda9"
      },
      "source": [
        "df_train.head()"
      ],
      "execution_count": 321,
      "outputs": [
        {
          "output_type": "execute_result",
          "data": {
            "text/html": [
              "<div>\n",
              "<style scoped>\n",
              "    .dataframe tbody tr th:only-of-type {\n",
              "        vertical-align: middle;\n",
              "    }\n",
              "\n",
              "    .dataframe tbody tr th {\n",
              "        vertical-align: top;\n",
              "    }\n",
              "\n",
              "    .dataframe thead th {\n",
              "        text-align: right;\n",
              "    }\n",
              "</style>\n",
              "<table border=\"1\" class=\"dataframe\">\n",
              "  <thead>\n",
              "    <tr style=\"text-align: right;\">\n",
              "      <th></th>\n",
              "      <th>City_Code</th>\n",
              "      <th>Region_Code</th>\n",
              "      <th>Accomodation_Type</th>\n",
              "      <th>Reco_Insurance_Type</th>\n",
              "      <th>Upper_Age</th>\n",
              "      <th>Lower_Age</th>\n",
              "      <th>Is_Spouse</th>\n",
              "      <th>Health_Indicator</th>\n",
              "      <th>Holding_Policy_Duration</th>\n",
              "      <th>Holding_Policy_Type</th>\n",
              "      <th>Reco_Policy_Cat</th>\n",
              "      <th>Reco_Policy_Premium</th>\n",
              "      <th>Response</th>\n",
              "      <th>Age_Diff</th>\n",
              "      <th>Holding_Policy_Duration_Check</th>\n",
              "    </tr>\n",
              "    <tr>\n",
              "      <th>ID</th>\n",
              "      <th></th>\n",
              "      <th></th>\n",
              "      <th></th>\n",
              "      <th></th>\n",
              "      <th></th>\n",
              "      <th></th>\n",
              "      <th></th>\n",
              "      <th></th>\n",
              "      <th></th>\n",
              "      <th></th>\n",
              "      <th></th>\n",
              "      <th></th>\n",
              "      <th></th>\n",
              "      <th></th>\n",
              "      <th></th>\n",
              "    </tr>\n",
              "  </thead>\n",
              "  <tbody>\n",
              "    <tr>\n",
              "      <th>1</th>\n",
              "      <td>C3</td>\n",
              "      <td>3213</td>\n",
              "      <td>0</td>\n",
              "      <td>0</td>\n",
              "      <td>36</td>\n",
              "      <td>36</td>\n",
              "      <td>0</td>\n",
              "      <td>1.0</td>\n",
              "      <td>14.0</td>\n",
              "      <td>3.0</td>\n",
              "      <td>22</td>\n",
              "      <td>11628.0</td>\n",
              "      <td>0</td>\n",
              "      <td>0</td>\n",
              "      <td>1</td>\n",
              "    </tr>\n",
              "    <tr>\n",
              "      <th>2</th>\n",
              "      <td>C5</td>\n",
              "      <td>1117</td>\n",
              "      <td>1</td>\n",
              "      <td>1</td>\n",
              "      <td>75</td>\n",
              "      <td>22</td>\n",
              "      <td>0</td>\n",
              "      <td>2.0</td>\n",
              "      <td>5.0</td>\n",
              "      <td>3.0</td>\n",
              "      <td>22</td>\n",
              "      <td>30510.0</td>\n",
              "      <td>0</td>\n",
              "      <td>53</td>\n",
              "      <td>0</td>\n",
              "    </tr>\n",
              "    <tr>\n",
              "      <th>3</th>\n",
              "      <td>C5</td>\n",
              "      <td>3732</td>\n",
              "      <td>1</td>\n",
              "      <td>0</td>\n",
              "      <td>32</td>\n",
              "      <td>32</td>\n",
              "      <td>0</td>\n",
              "      <td>2.0</td>\n",
              "      <td>1.0</td>\n",
              "      <td>1.0</td>\n",
              "      <td>19</td>\n",
              "      <td>7450.0</td>\n",
              "      <td>1</td>\n",
              "      <td>0</td>\n",
              "      <td>0</td>\n",
              "    </tr>\n",
              "    <tr>\n",
              "      <th>4</th>\n",
              "      <td>C24</td>\n",
              "      <td>4378</td>\n",
              "      <td>1</td>\n",
              "      <td>1</td>\n",
              "      <td>52</td>\n",
              "      <td>48</td>\n",
              "      <td>0</td>\n",
              "      <td>1.0</td>\n",
              "      <td>14.0</td>\n",
              "      <td>3.0</td>\n",
              "      <td>19</td>\n",
              "      <td>17780.0</td>\n",
              "      <td>0</td>\n",
              "      <td>4</td>\n",
              "      <td>1</td>\n",
              "    </tr>\n",
              "    <tr>\n",
              "      <th>5</th>\n",
              "      <td>C8</td>\n",
              "      <td>2190</td>\n",
              "      <td>0</td>\n",
              "      <td>0</td>\n",
              "      <td>44</td>\n",
              "      <td>44</td>\n",
              "      <td>0</td>\n",
              "      <td>2.0</td>\n",
              "      <td>3.0</td>\n",
              "      <td>1.0</td>\n",
              "      <td>16</td>\n",
              "      <td>10404.0</td>\n",
              "      <td>0</td>\n",
              "      <td>0</td>\n",
              "      <td>0</td>\n",
              "    </tr>\n",
              "  </tbody>\n",
              "</table>\n",
              "</div>"
            ],
            "text/plain": [
              "   City_Code  Region_Code  ...  Age_Diff  Holding_Policy_Duration_Check\n",
              "ID                         ...                                         \n",
              "1         C3         3213  ...         0                              1\n",
              "2         C5         1117  ...        53                              0\n",
              "3         C5         3732  ...         0                              0\n",
              "4        C24         4378  ...         4                              1\n",
              "5         C8         2190  ...         0                              0\n",
              "\n",
              "[5 rows x 15 columns]"
            ]
          },
          "metadata": {
            "tags": []
          },
          "execution_count": 321
        }
      ]
    },
    {
      "cell_type": "markdown",
      "metadata": {
        "id": "y4XNCgjcM0Qg"
      },
      "source": [
        "One Hot Encoding for the necessary columns"
      ]
    },
    {
      "cell_type": "code",
      "metadata": {
        "colab": {
          "base_uri": "https://localhost:8080/"
        },
        "id": "sxp2a1wzq-Ej",
        "outputId": "219294f3-409c-4c92-d0f9-81197ae4999e"
      },
      "source": [
        "print(len(df_train['Region_Code'].unique()))\r\n",
        "print(len(df_test['Region_Code'].unique()))"
      ],
      "execution_count": 322,
      "outputs": [
        {
          "output_type": "stream",
          "text": [
            "5316\n",
            "4694\n"
          ],
          "name": "stdout"
        }
      ]
    },
    {
      "cell_type": "code",
      "metadata": {
        "id": "HPZkTMjOscws"
      },
      "source": [
        "def drop_Region(data):\r\n",
        "  data = data.drop(['Region_Code'], axis=1)\r\n",
        "  return data"
      ],
      "execution_count": 323,
      "outputs": []
    },
    {
      "cell_type": "code",
      "metadata": {
        "id": "3vktuHM9srZ2"
      },
      "source": [
        "df_train = drop_Region(df_train)\r\n",
        "df_test = drop_Region(df_test)"
      ],
      "execution_count": 324,
      "outputs": []
    },
    {
      "cell_type": "code",
      "metadata": {
        "colab": {
          "base_uri": "https://localhost:8080/"
        },
        "id": "q_GNe0tqNp47",
        "outputId": "b2a81384-9f48-4102-a1d5-7189ec651f7b"
      },
      "source": [
        "cols = df_train.columns\r\n",
        "for x in cols:\r\n",
        "  print(len(df_train[x].unique()), x)\r\n",
        "\r\n",
        "df_train['Health_Indicator'].unique()"
      ],
      "execution_count": 325,
      "outputs": [
        {
          "output_type": "stream",
          "text": [
            "36 City_Code\n",
            "2 Accomodation_Type\n",
            "2 Reco_Insurance_Type\n",
            "58 Upper_Age\n",
            "60 Lower_Age\n",
            "2 Is_Spouse\n",
            "9 Health_Indicator\n",
            "14 Holding_Policy_Duration\n",
            "4 Holding_Policy_Type\n",
            "22 Reco_Policy_Cat\n",
            "6977 Reco_Policy_Premium\n",
            "2 Response\n",
            "60 Age_Diff\n",
            "2 Holding_Policy_Duration_Check\n"
          ],
          "name": "stdout"
        },
        {
          "output_type": "execute_result",
          "data": {
            "text/plain": [
              "array([1., 2., 4., 3., 6., 5., 8., 7., 9.])"
            ]
          },
          "metadata": {
            "tags": []
          },
          "execution_count": 325
        }
      ]
    },
    {
      "cell_type": "code",
      "metadata": {
        "id": "gBy8ZAJ8OOQU"
      },
      "source": [
        "def one_hot_encoding(data):\r\n",
        "  one_hot_cols = ['City_Code','Holding_Policy_Type','Reco_Policy_Cat']\r\n",
        "  for x in one_hot_cols:\r\n",
        "    one_hot = pd.get_dummies(data[x], prefix=x)\r\n",
        "    data = data.drop(x, axis=1)\r\n",
        "    data = data.join(one_hot)\r\n",
        "\r\n",
        "  return data"
      ],
      "execution_count": 326,
      "outputs": []
    },
    {
      "cell_type": "code",
      "metadata": {
        "colab": {
          "base_uri": "https://localhost:8080/"
        },
        "id": "mugEXo55s_HO",
        "outputId": "fe48c24f-4442-4089-c485-661ba9076d80"
      },
      "source": [
        "print(df_train.shape)\r\n",
        "print(df_test.shape)"
      ],
      "execution_count": 327,
      "outputs": [
        {
          "output_type": "stream",
          "text": [
            "(50882, 14)\n",
            "(21805, 13)\n"
          ],
          "name": "stdout"
        }
      ]
    },
    {
      "cell_type": "code",
      "metadata": {
        "id": "boH_lyFvbuV2"
      },
      "source": [
        "#Applying one hot encoding for the necessary columns for both train and test data\r\n",
        "df_train = one_hot_encoding(df_train)\r\n",
        "df_test = one_hot_encoding(df_test)"
      ],
      "execution_count": 328,
      "outputs": []
    },
    {
      "cell_type": "code",
      "metadata": {
        "colab": {
          "base_uri": "https://localhost:8080/"
        },
        "id": "kgGha1SWqUVf",
        "outputId": "6034a1f2-0818-4d09-f03a-e0cde7d05d31"
      },
      "source": [
        "print(df_train.shape)\r\n",
        "print(df_test.shape)"
      ],
      "execution_count": 329,
      "outputs": [
        {
          "output_type": "stream",
          "text": [
            "(50882, 73)\n",
            "(21805, 72)\n"
          ],
          "name": "stdout"
        }
      ]
    },
    {
      "cell_type": "code",
      "metadata": {
        "id": "ZrYNs-e8o4cR"
      },
      "source": [
        ""
      ],
      "execution_count": 329,
      "outputs": []
    },
    {
      "cell_type": "code",
      "metadata": {
        "colab": {
          "base_uri": "https://localhost:8080/",
          "height": 255
        },
        "id": "wKKCJV0IPV7Z",
        "outputId": "699b11c9-e004-426b-b8d1-625c25c77b8b"
      },
      "source": [
        "df_train.head()"
      ],
      "execution_count": 330,
      "outputs": [
        {
          "output_type": "execute_result",
          "data": {
            "text/html": [
              "<div>\n",
              "<style scoped>\n",
              "    .dataframe tbody tr th:only-of-type {\n",
              "        vertical-align: middle;\n",
              "    }\n",
              "\n",
              "    .dataframe tbody tr th {\n",
              "        vertical-align: top;\n",
              "    }\n",
              "\n",
              "    .dataframe thead th {\n",
              "        text-align: right;\n",
              "    }\n",
              "</style>\n",
              "<table border=\"1\" class=\"dataframe\">\n",
              "  <thead>\n",
              "    <tr style=\"text-align: right;\">\n",
              "      <th></th>\n",
              "      <th>Accomodation_Type</th>\n",
              "      <th>Reco_Insurance_Type</th>\n",
              "      <th>Upper_Age</th>\n",
              "      <th>Lower_Age</th>\n",
              "      <th>Is_Spouse</th>\n",
              "      <th>Health_Indicator</th>\n",
              "      <th>Holding_Policy_Duration</th>\n",
              "      <th>Reco_Policy_Premium</th>\n",
              "      <th>Response</th>\n",
              "      <th>Age_Diff</th>\n",
              "      <th>Holding_Policy_Duration_Check</th>\n",
              "      <th>City_Code_C1</th>\n",
              "      <th>City_Code_C10</th>\n",
              "      <th>City_Code_C11</th>\n",
              "      <th>City_Code_C12</th>\n",
              "      <th>City_Code_C13</th>\n",
              "      <th>City_Code_C14</th>\n",
              "      <th>City_Code_C15</th>\n",
              "      <th>City_Code_C16</th>\n",
              "      <th>City_Code_C17</th>\n",
              "      <th>City_Code_C18</th>\n",
              "      <th>City_Code_C19</th>\n",
              "      <th>City_Code_C2</th>\n",
              "      <th>City_Code_C20</th>\n",
              "      <th>City_Code_C21</th>\n",
              "      <th>City_Code_C22</th>\n",
              "      <th>City_Code_C23</th>\n",
              "      <th>City_Code_C24</th>\n",
              "      <th>City_Code_C25</th>\n",
              "      <th>City_Code_C26</th>\n",
              "      <th>City_Code_C27</th>\n",
              "      <th>City_Code_C28</th>\n",
              "      <th>City_Code_C29</th>\n",
              "      <th>City_Code_C3</th>\n",
              "      <th>City_Code_C30</th>\n",
              "      <th>City_Code_C31</th>\n",
              "      <th>City_Code_C32</th>\n",
              "      <th>City_Code_C33</th>\n",
              "      <th>City_Code_C34</th>\n",
              "      <th>City_Code_C35</th>\n",
              "      <th>City_Code_C36</th>\n",
              "      <th>City_Code_C4</th>\n",
              "      <th>City_Code_C5</th>\n",
              "      <th>City_Code_C6</th>\n",
              "      <th>City_Code_C7</th>\n",
              "      <th>City_Code_C8</th>\n",
              "      <th>City_Code_C9</th>\n",
              "      <th>Holding_Policy_Type_1.0</th>\n",
              "      <th>Holding_Policy_Type_2.0</th>\n",
              "      <th>Holding_Policy_Type_3.0</th>\n",
              "      <th>Holding_Policy_Type_4.0</th>\n",
              "      <th>Reco_Policy_Cat_1</th>\n",
              "      <th>Reco_Policy_Cat_2</th>\n",
              "      <th>Reco_Policy_Cat_3</th>\n",
              "      <th>Reco_Policy_Cat_4</th>\n",
              "      <th>Reco_Policy_Cat_5</th>\n",
              "      <th>Reco_Policy_Cat_6</th>\n",
              "      <th>Reco_Policy_Cat_7</th>\n",
              "      <th>Reco_Policy_Cat_8</th>\n",
              "      <th>Reco_Policy_Cat_9</th>\n",
              "      <th>Reco_Policy_Cat_10</th>\n",
              "      <th>Reco_Policy_Cat_11</th>\n",
              "      <th>Reco_Policy_Cat_12</th>\n",
              "      <th>Reco_Policy_Cat_13</th>\n",
              "      <th>Reco_Policy_Cat_14</th>\n",
              "      <th>Reco_Policy_Cat_15</th>\n",
              "      <th>Reco_Policy_Cat_16</th>\n",
              "      <th>Reco_Policy_Cat_17</th>\n",
              "      <th>Reco_Policy_Cat_18</th>\n",
              "      <th>Reco_Policy_Cat_19</th>\n",
              "      <th>Reco_Policy_Cat_20</th>\n",
              "      <th>Reco_Policy_Cat_21</th>\n",
              "      <th>Reco_Policy_Cat_22</th>\n",
              "    </tr>\n",
              "    <tr>\n",
              "      <th>ID</th>\n",
              "      <th></th>\n",
              "      <th></th>\n",
              "      <th></th>\n",
              "      <th></th>\n",
              "      <th></th>\n",
              "      <th></th>\n",
              "      <th></th>\n",
              "      <th></th>\n",
              "      <th></th>\n",
              "      <th></th>\n",
              "      <th></th>\n",
              "      <th></th>\n",
              "      <th></th>\n",
              "      <th></th>\n",
              "      <th></th>\n",
              "      <th></th>\n",
              "      <th></th>\n",
              "      <th></th>\n",
              "      <th></th>\n",
              "      <th></th>\n",
              "      <th></th>\n",
              "      <th></th>\n",
              "      <th></th>\n",
              "      <th></th>\n",
              "      <th></th>\n",
              "      <th></th>\n",
              "      <th></th>\n",
              "      <th></th>\n",
              "      <th></th>\n",
              "      <th></th>\n",
              "      <th></th>\n",
              "      <th></th>\n",
              "      <th></th>\n",
              "      <th></th>\n",
              "      <th></th>\n",
              "      <th></th>\n",
              "      <th></th>\n",
              "      <th></th>\n",
              "      <th></th>\n",
              "      <th></th>\n",
              "      <th></th>\n",
              "      <th></th>\n",
              "      <th></th>\n",
              "      <th></th>\n",
              "      <th></th>\n",
              "      <th></th>\n",
              "      <th></th>\n",
              "      <th></th>\n",
              "      <th></th>\n",
              "      <th></th>\n",
              "      <th></th>\n",
              "      <th></th>\n",
              "      <th></th>\n",
              "      <th></th>\n",
              "      <th></th>\n",
              "      <th></th>\n",
              "      <th></th>\n",
              "      <th></th>\n",
              "      <th></th>\n",
              "      <th></th>\n",
              "      <th></th>\n",
              "      <th></th>\n",
              "      <th></th>\n",
              "      <th></th>\n",
              "      <th></th>\n",
              "      <th></th>\n",
              "      <th></th>\n",
              "      <th></th>\n",
              "      <th></th>\n",
              "      <th></th>\n",
              "      <th></th>\n",
              "      <th></th>\n",
              "      <th></th>\n",
              "    </tr>\n",
              "  </thead>\n",
              "  <tbody>\n",
              "    <tr>\n",
              "      <th>1</th>\n",
              "      <td>0</td>\n",
              "      <td>0</td>\n",
              "      <td>36</td>\n",
              "      <td>36</td>\n",
              "      <td>0</td>\n",
              "      <td>1.0</td>\n",
              "      <td>14.0</td>\n",
              "      <td>11628.0</td>\n",
              "      <td>0</td>\n",
              "      <td>0</td>\n",
              "      <td>1</td>\n",
              "      <td>0</td>\n",
              "      <td>0</td>\n",
              "      <td>0</td>\n",
              "      <td>0</td>\n",
              "      <td>0</td>\n",
              "      <td>0</td>\n",
              "      <td>0</td>\n",
              "      <td>0</td>\n",
              "      <td>0</td>\n",
              "      <td>0</td>\n",
              "      <td>0</td>\n",
              "      <td>0</td>\n",
              "      <td>0</td>\n",
              "      <td>0</td>\n",
              "      <td>0</td>\n",
              "      <td>0</td>\n",
              "      <td>0</td>\n",
              "      <td>0</td>\n",
              "      <td>0</td>\n",
              "      <td>0</td>\n",
              "      <td>0</td>\n",
              "      <td>0</td>\n",
              "      <td>1</td>\n",
              "      <td>0</td>\n",
              "      <td>0</td>\n",
              "      <td>0</td>\n",
              "      <td>0</td>\n",
              "      <td>0</td>\n",
              "      <td>0</td>\n",
              "      <td>0</td>\n",
              "      <td>0</td>\n",
              "      <td>0</td>\n",
              "      <td>0</td>\n",
              "      <td>0</td>\n",
              "      <td>0</td>\n",
              "      <td>0</td>\n",
              "      <td>0</td>\n",
              "      <td>0</td>\n",
              "      <td>1</td>\n",
              "      <td>0</td>\n",
              "      <td>0</td>\n",
              "      <td>0</td>\n",
              "      <td>0</td>\n",
              "      <td>0</td>\n",
              "      <td>0</td>\n",
              "      <td>0</td>\n",
              "      <td>0</td>\n",
              "      <td>0</td>\n",
              "      <td>0</td>\n",
              "      <td>0</td>\n",
              "      <td>0</td>\n",
              "      <td>0</td>\n",
              "      <td>0</td>\n",
              "      <td>0</td>\n",
              "      <td>0</td>\n",
              "      <td>0</td>\n",
              "      <td>0</td>\n",
              "      <td>0</td>\n",
              "      <td>0</td>\n",
              "      <td>0</td>\n",
              "      <td>0</td>\n",
              "      <td>1</td>\n",
              "    </tr>\n",
              "    <tr>\n",
              "      <th>2</th>\n",
              "      <td>1</td>\n",
              "      <td>1</td>\n",
              "      <td>75</td>\n",
              "      <td>22</td>\n",
              "      <td>0</td>\n",
              "      <td>2.0</td>\n",
              "      <td>5.0</td>\n",
              "      <td>30510.0</td>\n",
              "      <td>0</td>\n",
              "      <td>53</td>\n",
              "      <td>0</td>\n",
              "      <td>0</td>\n",
              "      <td>0</td>\n",
              "      <td>0</td>\n",
              "      <td>0</td>\n",
              "      <td>0</td>\n",
              "      <td>0</td>\n",
              "      <td>0</td>\n",
              "      <td>0</td>\n",
              "      <td>0</td>\n",
              "      <td>0</td>\n",
              "      <td>0</td>\n",
              "      <td>0</td>\n",
              "      <td>0</td>\n",
              "      <td>0</td>\n",
              "      <td>0</td>\n",
              "      <td>0</td>\n",
              "      <td>0</td>\n",
              "      <td>0</td>\n",
              "      <td>0</td>\n",
              "      <td>0</td>\n",
              "      <td>0</td>\n",
              "      <td>0</td>\n",
              "      <td>0</td>\n",
              "      <td>0</td>\n",
              "      <td>0</td>\n",
              "      <td>0</td>\n",
              "      <td>0</td>\n",
              "      <td>0</td>\n",
              "      <td>0</td>\n",
              "      <td>0</td>\n",
              "      <td>0</td>\n",
              "      <td>1</td>\n",
              "      <td>0</td>\n",
              "      <td>0</td>\n",
              "      <td>0</td>\n",
              "      <td>0</td>\n",
              "      <td>0</td>\n",
              "      <td>0</td>\n",
              "      <td>1</td>\n",
              "      <td>0</td>\n",
              "      <td>0</td>\n",
              "      <td>0</td>\n",
              "      <td>0</td>\n",
              "      <td>0</td>\n",
              "      <td>0</td>\n",
              "      <td>0</td>\n",
              "      <td>0</td>\n",
              "      <td>0</td>\n",
              "      <td>0</td>\n",
              "      <td>0</td>\n",
              "      <td>0</td>\n",
              "      <td>0</td>\n",
              "      <td>0</td>\n",
              "      <td>0</td>\n",
              "      <td>0</td>\n",
              "      <td>0</td>\n",
              "      <td>0</td>\n",
              "      <td>0</td>\n",
              "      <td>0</td>\n",
              "      <td>0</td>\n",
              "      <td>0</td>\n",
              "      <td>1</td>\n",
              "    </tr>\n",
              "    <tr>\n",
              "      <th>3</th>\n",
              "      <td>1</td>\n",
              "      <td>0</td>\n",
              "      <td>32</td>\n",
              "      <td>32</td>\n",
              "      <td>0</td>\n",
              "      <td>2.0</td>\n",
              "      <td>1.0</td>\n",
              "      <td>7450.0</td>\n",
              "      <td>1</td>\n",
              "      <td>0</td>\n",
              "      <td>0</td>\n",
              "      <td>0</td>\n",
              "      <td>0</td>\n",
              "      <td>0</td>\n",
              "      <td>0</td>\n",
              "      <td>0</td>\n",
              "      <td>0</td>\n",
              "      <td>0</td>\n",
              "      <td>0</td>\n",
              "      <td>0</td>\n",
              "      <td>0</td>\n",
              "      <td>0</td>\n",
              "      <td>0</td>\n",
              "      <td>0</td>\n",
              "      <td>0</td>\n",
              "      <td>0</td>\n",
              "      <td>0</td>\n",
              "      <td>0</td>\n",
              "      <td>0</td>\n",
              "      <td>0</td>\n",
              "      <td>0</td>\n",
              "      <td>0</td>\n",
              "      <td>0</td>\n",
              "      <td>0</td>\n",
              "      <td>0</td>\n",
              "      <td>0</td>\n",
              "      <td>0</td>\n",
              "      <td>0</td>\n",
              "      <td>0</td>\n",
              "      <td>0</td>\n",
              "      <td>0</td>\n",
              "      <td>0</td>\n",
              "      <td>1</td>\n",
              "      <td>0</td>\n",
              "      <td>0</td>\n",
              "      <td>0</td>\n",
              "      <td>0</td>\n",
              "      <td>1</td>\n",
              "      <td>0</td>\n",
              "      <td>0</td>\n",
              "      <td>0</td>\n",
              "      <td>0</td>\n",
              "      <td>0</td>\n",
              "      <td>0</td>\n",
              "      <td>0</td>\n",
              "      <td>0</td>\n",
              "      <td>0</td>\n",
              "      <td>0</td>\n",
              "      <td>0</td>\n",
              "      <td>0</td>\n",
              "      <td>0</td>\n",
              "      <td>0</td>\n",
              "      <td>0</td>\n",
              "      <td>0</td>\n",
              "      <td>0</td>\n",
              "      <td>0</td>\n",
              "      <td>0</td>\n",
              "      <td>0</td>\n",
              "      <td>0</td>\n",
              "      <td>1</td>\n",
              "      <td>0</td>\n",
              "      <td>0</td>\n",
              "      <td>0</td>\n",
              "    </tr>\n",
              "    <tr>\n",
              "      <th>4</th>\n",
              "      <td>1</td>\n",
              "      <td>1</td>\n",
              "      <td>52</td>\n",
              "      <td>48</td>\n",
              "      <td>0</td>\n",
              "      <td>1.0</td>\n",
              "      <td>14.0</td>\n",
              "      <td>17780.0</td>\n",
              "      <td>0</td>\n",
              "      <td>4</td>\n",
              "      <td>1</td>\n",
              "      <td>0</td>\n",
              "      <td>0</td>\n",
              "      <td>0</td>\n",
              "      <td>0</td>\n",
              "      <td>0</td>\n",
              "      <td>0</td>\n",
              "      <td>0</td>\n",
              "      <td>0</td>\n",
              "      <td>0</td>\n",
              "      <td>0</td>\n",
              "      <td>0</td>\n",
              "      <td>0</td>\n",
              "      <td>0</td>\n",
              "      <td>0</td>\n",
              "      <td>0</td>\n",
              "      <td>0</td>\n",
              "      <td>1</td>\n",
              "      <td>0</td>\n",
              "      <td>0</td>\n",
              "      <td>0</td>\n",
              "      <td>0</td>\n",
              "      <td>0</td>\n",
              "      <td>0</td>\n",
              "      <td>0</td>\n",
              "      <td>0</td>\n",
              "      <td>0</td>\n",
              "      <td>0</td>\n",
              "      <td>0</td>\n",
              "      <td>0</td>\n",
              "      <td>0</td>\n",
              "      <td>0</td>\n",
              "      <td>0</td>\n",
              "      <td>0</td>\n",
              "      <td>0</td>\n",
              "      <td>0</td>\n",
              "      <td>0</td>\n",
              "      <td>0</td>\n",
              "      <td>0</td>\n",
              "      <td>1</td>\n",
              "      <td>0</td>\n",
              "      <td>0</td>\n",
              "      <td>0</td>\n",
              "      <td>0</td>\n",
              "      <td>0</td>\n",
              "      <td>0</td>\n",
              "      <td>0</td>\n",
              "      <td>0</td>\n",
              "      <td>0</td>\n",
              "      <td>0</td>\n",
              "      <td>0</td>\n",
              "      <td>0</td>\n",
              "      <td>0</td>\n",
              "      <td>0</td>\n",
              "      <td>0</td>\n",
              "      <td>0</td>\n",
              "      <td>0</td>\n",
              "      <td>0</td>\n",
              "      <td>0</td>\n",
              "      <td>1</td>\n",
              "      <td>0</td>\n",
              "      <td>0</td>\n",
              "      <td>0</td>\n",
              "    </tr>\n",
              "    <tr>\n",
              "      <th>5</th>\n",
              "      <td>0</td>\n",
              "      <td>0</td>\n",
              "      <td>44</td>\n",
              "      <td>44</td>\n",
              "      <td>0</td>\n",
              "      <td>2.0</td>\n",
              "      <td>3.0</td>\n",
              "      <td>10404.0</td>\n",
              "      <td>0</td>\n",
              "      <td>0</td>\n",
              "      <td>0</td>\n",
              "      <td>0</td>\n",
              "      <td>0</td>\n",
              "      <td>0</td>\n",
              "      <td>0</td>\n",
              "      <td>0</td>\n",
              "      <td>0</td>\n",
              "      <td>0</td>\n",
              "      <td>0</td>\n",
              "      <td>0</td>\n",
              "      <td>0</td>\n",
              "      <td>0</td>\n",
              "      <td>0</td>\n",
              "      <td>0</td>\n",
              "      <td>0</td>\n",
              "      <td>0</td>\n",
              "      <td>0</td>\n",
              "      <td>0</td>\n",
              "      <td>0</td>\n",
              "      <td>0</td>\n",
              "      <td>0</td>\n",
              "      <td>0</td>\n",
              "      <td>0</td>\n",
              "      <td>0</td>\n",
              "      <td>0</td>\n",
              "      <td>0</td>\n",
              "      <td>0</td>\n",
              "      <td>0</td>\n",
              "      <td>0</td>\n",
              "      <td>0</td>\n",
              "      <td>0</td>\n",
              "      <td>0</td>\n",
              "      <td>0</td>\n",
              "      <td>0</td>\n",
              "      <td>0</td>\n",
              "      <td>1</td>\n",
              "      <td>0</td>\n",
              "      <td>1</td>\n",
              "      <td>0</td>\n",
              "      <td>0</td>\n",
              "      <td>0</td>\n",
              "      <td>0</td>\n",
              "      <td>0</td>\n",
              "      <td>0</td>\n",
              "      <td>0</td>\n",
              "      <td>0</td>\n",
              "      <td>0</td>\n",
              "      <td>0</td>\n",
              "      <td>0</td>\n",
              "      <td>0</td>\n",
              "      <td>0</td>\n",
              "      <td>0</td>\n",
              "      <td>0</td>\n",
              "      <td>0</td>\n",
              "      <td>0</td>\n",
              "      <td>0</td>\n",
              "      <td>1</td>\n",
              "      <td>0</td>\n",
              "      <td>0</td>\n",
              "      <td>0</td>\n",
              "      <td>0</td>\n",
              "      <td>0</td>\n",
              "      <td>0</td>\n",
              "    </tr>\n",
              "  </tbody>\n",
              "</table>\n",
              "</div>"
            ],
            "text/plain": [
              "    Accomodation_Type  ...  Reco_Policy_Cat_22\n",
              "ID                     ...                    \n",
              "1                   0  ...                   1\n",
              "2                   1  ...                   1\n",
              "3                   1  ...                   0\n",
              "4                   1  ...                   0\n",
              "5                   0  ...                   0\n",
              "\n",
              "[5 rows x 73 columns]"
            ]
          },
          "metadata": {
            "tags": []
          },
          "execution_count": 330
        }
      ]
    },
    {
      "cell_type": "code",
      "metadata": {
        "id": "SMfEvluVTBvh",
        "colab": {
          "base_uri": "https://localhost:8080/"
        },
        "outputId": "d49bbba6-9621-47b0-9677-abeb213462ca"
      },
      "source": [
        "print(df_train.shape)\r\n",
        "print(df_test.shape)"
      ],
      "execution_count": 331,
      "outputs": [
        {
          "output_type": "stream",
          "text": [
            "(50882, 73)\n",
            "(21805, 72)\n"
          ],
          "name": "stdout"
        }
      ]
    },
    {
      "cell_type": "markdown",
      "metadata": {
        "id": "BZALLpKvTU8E"
      },
      "source": [
        "Over Sampling"
      ]
    },
    {
      "cell_type": "code",
      "metadata": {
        "id": "PL_gEkFqTVny"
      },
      "source": [
        "# Over sampling the train data to decrease the bias of Response variable\r\n",
        "#additional_data = df_train[df_train.Response==1]\r\n",
        "#df_train = pd.concat([df_train,additional_data])"
      ],
      "execution_count": 332,
      "outputs": []
    },
    {
      "cell_type": "code",
      "metadata": {
        "colab": {
          "base_uri": "https://localhost:8080/"
        },
        "id": "wXFX0CpJTncq",
        "outputId": "0e3d0217-c20e-47c9-8deb-970ce4612c54"
      },
      "source": [
        "df_train.shape"
      ],
      "execution_count": 333,
      "outputs": [
        {
          "output_type": "execute_result",
          "data": {
            "text/plain": [
              "(50882, 73)"
            ]
          },
          "metadata": {
            "tags": []
          },
          "execution_count": 333
        }
      ]
    },
    {
      "cell_type": "code",
      "metadata": {
        "colab": {
          "base_uri": "https://localhost:8080/",
          "height": 255
        },
        "id": "Up5gwgp5TpI8",
        "outputId": "a4563d99-4e63-48d3-8b55-be6383581770"
      },
      "source": [
        "df_train.head()"
      ],
      "execution_count": 334,
      "outputs": [
        {
          "output_type": "execute_result",
          "data": {
            "text/html": [
              "<div>\n",
              "<style scoped>\n",
              "    .dataframe tbody tr th:only-of-type {\n",
              "        vertical-align: middle;\n",
              "    }\n",
              "\n",
              "    .dataframe tbody tr th {\n",
              "        vertical-align: top;\n",
              "    }\n",
              "\n",
              "    .dataframe thead th {\n",
              "        text-align: right;\n",
              "    }\n",
              "</style>\n",
              "<table border=\"1\" class=\"dataframe\">\n",
              "  <thead>\n",
              "    <tr style=\"text-align: right;\">\n",
              "      <th></th>\n",
              "      <th>Accomodation_Type</th>\n",
              "      <th>Reco_Insurance_Type</th>\n",
              "      <th>Upper_Age</th>\n",
              "      <th>Lower_Age</th>\n",
              "      <th>Is_Spouse</th>\n",
              "      <th>Health_Indicator</th>\n",
              "      <th>Holding_Policy_Duration</th>\n",
              "      <th>Reco_Policy_Premium</th>\n",
              "      <th>Response</th>\n",
              "      <th>Age_Diff</th>\n",
              "      <th>Holding_Policy_Duration_Check</th>\n",
              "      <th>City_Code_C1</th>\n",
              "      <th>City_Code_C10</th>\n",
              "      <th>City_Code_C11</th>\n",
              "      <th>City_Code_C12</th>\n",
              "      <th>City_Code_C13</th>\n",
              "      <th>City_Code_C14</th>\n",
              "      <th>City_Code_C15</th>\n",
              "      <th>City_Code_C16</th>\n",
              "      <th>City_Code_C17</th>\n",
              "      <th>City_Code_C18</th>\n",
              "      <th>City_Code_C19</th>\n",
              "      <th>City_Code_C2</th>\n",
              "      <th>City_Code_C20</th>\n",
              "      <th>City_Code_C21</th>\n",
              "      <th>City_Code_C22</th>\n",
              "      <th>City_Code_C23</th>\n",
              "      <th>City_Code_C24</th>\n",
              "      <th>City_Code_C25</th>\n",
              "      <th>City_Code_C26</th>\n",
              "      <th>City_Code_C27</th>\n",
              "      <th>City_Code_C28</th>\n",
              "      <th>City_Code_C29</th>\n",
              "      <th>City_Code_C3</th>\n",
              "      <th>City_Code_C30</th>\n",
              "      <th>City_Code_C31</th>\n",
              "      <th>City_Code_C32</th>\n",
              "      <th>City_Code_C33</th>\n",
              "      <th>City_Code_C34</th>\n",
              "      <th>City_Code_C35</th>\n",
              "      <th>City_Code_C36</th>\n",
              "      <th>City_Code_C4</th>\n",
              "      <th>City_Code_C5</th>\n",
              "      <th>City_Code_C6</th>\n",
              "      <th>City_Code_C7</th>\n",
              "      <th>City_Code_C8</th>\n",
              "      <th>City_Code_C9</th>\n",
              "      <th>Holding_Policy_Type_1.0</th>\n",
              "      <th>Holding_Policy_Type_2.0</th>\n",
              "      <th>Holding_Policy_Type_3.0</th>\n",
              "      <th>Holding_Policy_Type_4.0</th>\n",
              "      <th>Reco_Policy_Cat_1</th>\n",
              "      <th>Reco_Policy_Cat_2</th>\n",
              "      <th>Reco_Policy_Cat_3</th>\n",
              "      <th>Reco_Policy_Cat_4</th>\n",
              "      <th>Reco_Policy_Cat_5</th>\n",
              "      <th>Reco_Policy_Cat_6</th>\n",
              "      <th>Reco_Policy_Cat_7</th>\n",
              "      <th>Reco_Policy_Cat_8</th>\n",
              "      <th>Reco_Policy_Cat_9</th>\n",
              "      <th>Reco_Policy_Cat_10</th>\n",
              "      <th>Reco_Policy_Cat_11</th>\n",
              "      <th>Reco_Policy_Cat_12</th>\n",
              "      <th>Reco_Policy_Cat_13</th>\n",
              "      <th>Reco_Policy_Cat_14</th>\n",
              "      <th>Reco_Policy_Cat_15</th>\n",
              "      <th>Reco_Policy_Cat_16</th>\n",
              "      <th>Reco_Policy_Cat_17</th>\n",
              "      <th>Reco_Policy_Cat_18</th>\n",
              "      <th>Reco_Policy_Cat_19</th>\n",
              "      <th>Reco_Policy_Cat_20</th>\n",
              "      <th>Reco_Policy_Cat_21</th>\n",
              "      <th>Reco_Policy_Cat_22</th>\n",
              "    </tr>\n",
              "    <tr>\n",
              "      <th>ID</th>\n",
              "      <th></th>\n",
              "      <th></th>\n",
              "      <th></th>\n",
              "      <th></th>\n",
              "      <th></th>\n",
              "      <th></th>\n",
              "      <th></th>\n",
              "      <th></th>\n",
              "      <th></th>\n",
              "      <th></th>\n",
              "      <th></th>\n",
              "      <th></th>\n",
              "      <th></th>\n",
              "      <th></th>\n",
              "      <th></th>\n",
              "      <th></th>\n",
              "      <th></th>\n",
              "      <th></th>\n",
              "      <th></th>\n",
              "      <th></th>\n",
              "      <th></th>\n",
              "      <th></th>\n",
              "      <th></th>\n",
              "      <th></th>\n",
              "      <th></th>\n",
              "      <th></th>\n",
              "      <th></th>\n",
              "      <th></th>\n",
              "      <th></th>\n",
              "      <th></th>\n",
              "      <th></th>\n",
              "      <th></th>\n",
              "      <th></th>\n",
              "      <th></th>\n",
              "      <th></th>\n",
              "      <th></th>\n",
              "      <th></th>\n",
              "      <th></th>\n",
              "      <th></th>\n",
              "      <th></th>\n",
              "      <th></th>\n",
              "      <th></th>\n",
              "      <th></th>\n",
              "      <th></th>\n",
              "      <th></th>\n",
              "      <th></th>\n",
              "      <th></th>\n",
              "      <th></th>\n",
              "      <th></th>\n",
              "      <th></th>\n",
              "      <th></th>\n",
              "      <th></th>\n",
              "      <th></th>\n",
              "      <th></th>\n",
              "      <th></th>\n",
              "      <th></th>\n",
              "      <th></th>\n",
              "      <th></th>\n",
              "      <th></th>\n",
              "      <th></th>\n",
              "      <th></th>\n",
              "      <th></th>\n",
              "      <th></th>\n",
              "      <th></th>\n",
              "      <th></th>\n",
              "      <th></th>\n",
              "      <th></th>\n",
              "      <th></th>\n",
              "      <th></th>\n",
              "      <th></th>\n",
              "      <th></th>\n",
              "      <th></th>\n",
              "      <th></th>\n",
              "    </tr>\n",
              "  </thead>\n",
              "  <tbody>\n",
              "    <tr>\n",
              "      <th>1</th>\n",
              "      <td>0</td>\n",
              "      <td>0</td>\n",
              "      <td>36</td>\n",
              "      <td>36</td>\n",
              "      <td>0</td>\n",
              "      <td>1.0</td>\n",
              "      <td>14.0</td>\n",
              "      <td>11628.0</td>\n",
              "      <td>0</td>\n",
              "      <td>0</td>\n",
              "      <td>1</td>\n",
              "      <td>0</td>\n",
              "      <td>0</td>\n",
              "      <td>0</td>\n",
              "      <td>0</td>\n",
              "      <td>0</td>\n",
              "      <td>0</td>\n",
              "      <td>0</td>\n",
              "      <td>0</td>\n",
              "      <td>0</td>\n",
              "      <td>0</td>\n",
              "      <td>0</td>\n",
              "      <td>0</td>\n",
              "      <td>0</td>\n",
              "      <td>0</td>\n",
              "      <td>0</td>\n",
              "      <td>0</td>\n",
              "      <td>0</td>\n",
              "      <td>0</td>\n",
              "      <td>0</td>\n",
              "      <td>0</td>\n",
              "      <td>0</td>\n",
              "      <td>0</td>\n",
              "      <td>1</td>\n",
              "      <td>0</td>\n",
              "      <td>0</td>\n",
              "      <td>0</td>\n",
              "      <td>0</td>\n",
              "      <td>0</td>\n",
              "      <td>0</td>\n",
              "      <td>0</td>\n",
              "      <td>0</td>\n",
              "      <td>0</td>\n",
              "      <td>0</td>\n",
              "      <td>0</td>\n",
              "      <td>0</td>\n",
              "      <td>0</td>\n",
              "      <td>0</td>\n",
              "      <td>0</td>\n",
              "      <td>1</td>\n",
              "      <td>0</td>\n",
              "      <td>0</td>\n",
              "      <td>0</td>\n",
              "      <td>0</td>\n",
              "      <td>0</td>\n",
              "      <td>0</td>\n",
              "      <td>0</td>\n",
              "      <td>0</td>\n",
              "      <td>0</td>\n",
              "      <td>0</td>\n",
              "      <td>0</td>\n",
              "      <td>0</td>\n",
              "      <td>0</td>\n",
              "      <td>0</td>\n",
              "      <td>0</td>\n",
              "      <td>0</td>\n",
              "      <td>0</td>\n",
              "      <td>0</td>\n",
              "      <td>0</td>\n",
              "      <td>0</td>\n",
              "      <td>0</td>\n",
              "      <td>0</td>\n",
              "      <td>1</td>\n",
              "    </tr>\n",
              "    <tr>\n",
              "      <th>2</th>\n",
              "      <td>1</td>\n",
              "      <td>1</td>\n",
              "      <td>75</td>\n",
              "      <td>22</td>\n",
              "      <td>0</td>\n",
              "      <td>2.0</td>\n",
              "      <td>5.0</td>\n",
              "      <td>30510.0</td>\n",
              "      <td>0</td>\n",
              "      <td>53</td>\n",
              "      <td>0</td>\n",
              "      <td>0</td>\n",
              "      <td>0</td>\n",
              "      <td>0</td>\n",
              "      <td>0</td>\n",
              "      <td>0</td>\n",
              "      <td>0</td>\n",
              "      <td>0</td>\n",
              "      <td>0</td>\n",
              "      <td>0</td>\n",
              "      <td>0</td>\n",
              "      <td>0</td>\n",
              "      <td>0</td>\n",
              "      <td>0</td>\n",
              "      <td>0</td>\n",
              "      <td>0</td>\n",
              "      <td>0</td>\n",
              "      <td>0</td>\n",
              "      <td>0</td>\n",
              "      <td>0</td>\n",
              "      <td>0</td>\n",
              "      <td>0</td>\n",
              "      <td>0</td>\n",
              "      <td>0</td>\n",
              "      <td>0</td>\n",
              "      <td>0</td>\n",
              "      <td>0</td>\n",
              "      <td>0</td>\n",
              "      <td>0</td>\n",
              "      <td>0</td>\n",
              "      <td>0</td>\n",
              "      <td>0</td>\n",
              "      <td>1</td>\n",
              "      <td>0</td>\n",
              "      <td>0</td>\n",
              "      <td>0</td>\n",
              "      <td>0</td>\n",
              "      <td>0</td>\n",
              "      <td>0</td>\n",
              "      <td>1</td>\n",
              "      <td>0</td>\n",
              "      <td>0</td>\n",
              "      <td>0</td>\n",
              "      <td>0</td>\n",
              "      <td>0</td>\n",
              "      <td>0</td>\n",
              "      <td>0</td>\n",
              "      <td>0</td>\n",
              "      <td>0</td>\n",
              "      <td>0</td>\n",
              "      <td>0</td>\n",
              "      <td>0</td>\n",
              "      <td>0</td>\n",
              "      <td>0</td>\n",
              "      <td>0</td>\n",
              "      <td>0</td>\n",
              "      <td>0</td>\n",
              "      <td>0</td>\n",
              "      <td>0</td>\n",
              "      <td>0</td>\n",
              "      <td>0</td>\n",
              "      <td>0</td>\n",
              "      <td>1</td>\n",
              "    </tr>\n",
              "    <tr>\n",
              "      <th>3</th>\n",
              "      <td>1</td>\n",
              "      <td>0</td>\n",
              "      <td>32</td>\n",
              "      <td>32</td>\n",
              "      <td>0</td>\n",
              "      <td>2.0</td>\n",
              "      <td>1.0</td>\n",
              "      <td>7450.0</td>\n",
              "      <td>1</td>\n",
              "      <td>0</td>\n",
              "      <td>0</td>\n",
              "      <td>0</td>\n",
              "      <td>0</td>\n",
              "      <td>0</td>\n",
              "      <td>0</td>\n",
              "      <td>0</td>\n",
              "      <td>0</td>\n",
              "      <td>0</td>\n",
              "      <td>0</td>\n",
              "      <td>0</td>\n",
              "      <td>0</td>\n",
              "      <td>0</td>\n",
              "      <td>0</td>\n",
              "      <td>0</td>\n",
              "      <td>0</td>\n",
              "      <td>0</td>\n",
              "      <td>0</td>\n",
              "      <td>0</td>\n",
              "      <td>0</td>\n",
              "      <td>0</td>\n",
              "      <td>0</td>\n",
              "      <td>0</td>\n",
              "      <td>0</td>\n",
              "      <td>0</td>\n",
              "      <td>0</td>\n",
              "      <td>0</td>\n",
              "      <td>0</td>\n",
              "      <td>0</td>\n",
              "      <td>0</td>\n",
              "      <td>0</td>\n",
              "      <td>0</td>\n",
              "      <td>0</td>\n",
              "      <td>1</td>\n",
              "      <td>0</td>\n",
              "      <td>0</td>\n",
              "      <td>0</td>\n",
              "      <td>0</td>\n",
              "      <td>1</td>\n",
              "      <td>0</td>\n",
              "      <td>0</td>\n",
              "      <td>0</td>\n",
              "      <td>0</td>\n",
              "      <td>0</td>\n",
              "      <td>0</td>\n",
              "      <td>0</td>\n",
              "      <td>0</td>\n",
              "      <td>0</td>\n",
              "      <td>0</td>\n",
              "      <td>0</td>\n",
              "      <td>0</td>\n",
              "      <td>0</td>\n",
              "      <td>0</td>\n",
              "      <td>0</td>\n",
              "      <td>0</td>\n",
              "      <td>0</td>\n",
              "      <td>0</td>\n",
              "      <td>0</td>\n",
              "      <td>0</td>\n",
              "      <td>0</td>\n",
              "      <td>1</td>\n",
              "      <td>0</td>\n",
              "      <td>0</td>\n",
              "      <td>0</td>\n",
              "    </tr>\n",
              "    <tr>\n",
              "      <th>4</th>\n",
              "      <td>1</td>\n",
              "      <td>1</td>\n",
              "      <td>52</td>\n",
              "      <td>48</td>\n",
              "      <td>0</td>\n",
              "      <td>1.0</td>\n",
              "      <td>14.0</td>\n",
              "      <td>17780.0</td>\n",
              "      <td>0</td>\n",
              "      <td>4</td>\n",
              "      <td>1</td>\n",
              "      <td>0</td>\n",
              "      <td>0</td>\n",
              "      <td>0</td>\n",
              "      <td>0</td>\n",
              "      <td>0</td>\n",
              "      <td>0</td>\n",
              "      <td>0</td>\n",
              "      <td>0</td>\n",
              "      <td>0</td>\n",
              "      <td>0</td>\n",
              "      <td>0</td>\n",
              "      <td>0</td>\n",
              "      <td>0</td>\n",
              "      <td>0</td>\n",
              "      <td>0</td>\n",
              "      <td>0</td>\n",
              "      <td>1</td>\n",
              "      <td>0</td>\n",
              "      <td>0</td>\n",
              "      <td>0</td>\n",
              "      <td>0</td>\n",
              "      <td>0</td>\n",
              "      <td>0</td>\n",
              "      <td>0</td>\n",
              "      <td>0</td>\n",
              "      <td>0</td>\n",
              "      <td>0</td>\n",
              "      <td>0</td>\n",
              "      <td>0</td>\n",
              "      <td>0</td>\n",
              "      <td>0</td>\n",
              "      <td>0</td>\n",
              "      <td>0</td>\n",
              "      <td>0</td>\n",
              "      <td>0</td>\n",
              "      <td>0</td>\n",
              "      <td>0</td>\n",
              "      <td>0</td>\n",
              "      <td>1</td>\n",
              "      <td>0</td>\n",
              "      <td>0</td>\n",
              "      <td>0</td>\n",
              "      <td>0</td>\n",
              "      <td>0</td>\n",
              "      <td>0</td>\n",
              "      <td>0</td>\n",
              "      <td>0</td>\n",
              "      <td>0</td>\n",
              "      <td>0</td>\n",
              "      <td>0</td>\n",
              "      <td>0</td>\n",
              "      <td>0</td>\n",
              "      <td>0</td>\n",
              "      <td>0</td>\n",
              "      <td>0</td>\n",
              "      <td>0</td>\n",
              "      <td>0</td>\n",
              "      <td>0</td>\n",
              "      <td>1</td>\n",
              "      <td>0</td>\n",
              "      <td>0</td>\n",
              "      <td>0</td>\n",
              "    </tr>\n",
              "    <tr>\n",
              "      <th>5</th>\n",
              "      <td>0</td>\n",
              "      <td>0</td>\n",
              "      <td>44</td>\n",
              "      <td>44</td>\n",
              "      <td>0</td>\n",
              "      <td>2.0</td>\n",
              "      <td>3.0</td>\n",
              "      <td>10404.0</td>\n",
              "      <td>0</td>\n",
              "      <td>0</td>\n",
              "      <td>0</td>\n",
              "      <td>0</td>\n",
              "      <td>0</td>\n",
              "      <td>0</td>\n",
              "      <td>0</td>\n",
              "      <td>0</td>\n",
              "      <td>0</td>\n",
              "      <td>0</td>\n",
              "      <td>0</td>\n",
              "      <td>0</td>\n",
              "      <td>0</td>\n",
              "      <td>0</td>\n",
              "      <td>0</td>\n",
              "      <td>0</td>\n",
              "      <td>0</td>\n",
              "      <td>0</td>\n",
              "      <td>0</td>\n",
              "      <td>0</td>\n",
              "      <td>0</td>\n",
              "      <td>0</td>\n",
              "      <td>0</td>\n",
              "      <td>0</td>\n",
              "      <td>0</td>\n",
              "      <td>0</td>\n",
              "      <td>0</td>\n",
              "      <td>0</td>\n",
              "      <td>0</td>\n",
              "      <td>0</td>\n",
              "      <td>0</td>\n",
              "      <td>0</td>\n",
              "      <td>0</td>\n",
              "      <td>0</td>\n",
              "      <td>0</td>\n",
              "      <td>0</td>\n",
              "      <td>0</td>\n",
              "      <td>1</td>\n",
              "      <td>0</td>\n",
              "      <td>1</td>\n",
              "      <td>0</td>\n",
              "      <td>0</td>\n",
              "      <td>0</td>\n",
              "      <td>0</td>\n",
              "      <td>0</td>\n",
              "      <td>0</td>\n",
              "      <td>0</td>\n",
              "      <td>0</td>\n",
              "      <td>0</td>\n",
              "      <td>0</td>\n",
              "      <td>0</td>\n",
              "      <td>0</td>\n",
              "      <td>0</td>\n",
              "      <td>0</td>\n",
              "      <td>0</td>\n",
              "      <td>0</td>\n",
              "      <td>0</td>\n",
              "      <td>0</td>\n",
              "      <td>1</td>\n",
              "      <td>0</td>\n",
              "      <td>0</td>\n",
              "      <td>0</td>\n",
              "      <td>0</td>\n",
              "      <td>0</td>\n",
              "      <td>0</td>\n",
              "    </tr>\n",
              "  </tbody>\n",
              "</table>\n",
              "</div>"
            ],
            "text/plain": [
              "    Accomodation_Type  ...  Reco_Policy_Cat_22\n",
              "ID                     ...                    \n",
              "1                   0  ...                   1\n",
              "2                   1  ...                   1\n",
              "3                   1  ...                   0\n",
              "4                   1  ...                   0\n",
              "5                   0  ...                   0\n",
              "\n",
              "[5 rows x 73 columns]"
            ]
          },
          "metadata": {
            "tags": []
          },
          "execution_count": 334
        }
      ]
    },
    {
      "cell_type": "markdown",
      "metadata": {
        "id": "-BwNS7ZhT2mD"
      },
      "source": [
        "Modeling"
      ]
    },
    {
      "cell_type": "code",
      "metadata": {
        "id": "hoTDR6HjT37R"
      },
      "source": [
        "#Splitting the data\r\n",
        "y = df_train['Response']\r\n",
        "X = df_train.drop(['Response'], axis=1)\r\n",
        "X_train, X_test, y_train, y_test = train_test_split(X, y, test_size=0.30, random_state=42)"
      ],
      "execution_count": 335,
      "outputs": []
    },
    {
      "cell_type": "code",
      "metadata": {
        "colab": {
          "base_uri": "https://localhost:8080/"
        },
        "id": "W3pfH1QhUqJE",
        "outputId": "68fb9e97-29e7-43dc-a7ef-6c848e367844"
      },
      "source": [
        "print(X_train.shape, X_test.shape, y_train.shape, y_test.shape)"
      ],
      "execution_count": 336,
      "outputs": [
        {
          "output_type": "stream",
          "text": [
            "(35617, 72) (15265, 72) (35617,) (15265,)\n"
          ],
          "name": "stdout"
        }
      ]
    },
    {
      "cell_type": "code",
      "metadata": {
        "colab": {
          "base_uri": "https://localhost:8080/"
        },
        "id": "_4pA1DbAohj1",
        "outputId": "975eec1e-133b-4068-96e3-395d30b4db1f"
      },
      "source": [
        "df_test.shape\r\n"
      ],
      "execution_count": 337,
      "outputs": [
        {
          "output_type": "execute_result",
          "data": {
            "text/plain": [
              "(21805, 72)"
            ]
          },
          "metadata": {
            "tags": []
          },
          "execution_count": 337
        }
      ]
    },
    {
      "cell_type": "markdown",
      "metadata": {
        "id": "ss7NdlyZXvpk"
      },
      "source": [
        "Applying Random Forest Classifier\r\n"
      ]
    },
    {
      "cell_type": "code",
      "metadata": {
        "id": "T5om9gVjXxHB"
      },
      "source": [
        "rf = RandomForestClassifier(n_jobs=-1, max_depth=72, n_estimators=100)\r\n",
        "rf.fit(X_train, y_train)\r\n",
        "y_pred = rf.predict(X_test)\r\n",
        "y_test_pred = rf.predict(df_test)"
      ],
      "execution_count": 338,
      "outputs": []
    },
    {
      "cell_type": "code",
      "metadata": {
        "id": "061qKyFWYIgD",
        "colab": {
          "base_uri": "https://localhost:8080/"
        },
        "outputId": "289ca8f7-9e7d-4c68-c59a-74fc79d088af"
      },
      "source": [
        "# Checking the predicted roc_auc score\r\n",
        "print(roc_auc_score(y_test, y_pred))"
      ],
      "execution_count": 339,
      "outputs": [
        {
          "output_type": "stream",
          "text": [
            "0.5314085636636173\n"
          ],
          "name": "stdout"
        }
      ]
    },
    {
      "cell_type": "code",
      "metadata": {
        "id": "HSg81Vbq7Xkp",
        "colab": {
          "base_uri": "https://localhost:8080/",
          "height": 86
        },
        "outputId": "2149e49b-36b8-4948-e2e8-b37c3227809c"
      },
      "source": [
        "'''forest = RandomForestClassifier(n_jobs=-1)\r\n",
        "\r\n",
        "n_estimators = [100, 300, 500, 800]\r\n",
        "max_depth = [5, 8, 15, 25, 30]\r\n",
        "min_samples_split = [2, 5, 10, 15, 100]\r\n",
        "#min_samples_leaf = [1, 2, 5, 10] \r\n",
        "\r\n",
        "hyperF = dict(n_estimators = n_estimators, max_depth = max_depth,  \r\n",
        "              min_samples_split = min_samples_split)\r\n",
        "\r\n",
        "gridF = GridSearchCV(forest, hyperF, cv = 3, verbose = 10)\r\n",
        "\r\n",
        "bestF = gridF.fit(X_train, y_train)'''"
      ],
      "execution_count": 340,
      "outputs": [
        {
          "output_type": "execute_result",
          "data": {
            "application/vnd.google.colaboratory.intrinsic+json": {
              "type": "string"
            },
            "text/plain": [
              "'forest = RandomForestClassifier(n_jobs=-1)\\n\\nn_estimators = [100, 300, 500, 800]\\nmax_depth = [5, 8, 15, 25, 30]\\nmin_samples_split = [2, 5, 10, 15, 100]\\n#min_samples_leaf = [1, 2, 5, 10] \\n\\nhyperF = dict(n_estimators = n_estimators, max_depth = max_depth,  \\n              min_samples_split = min_samples_split)\\n\\ngridF = GridSearchCV(forest, hyperF, cv = 3, verbose = 10)\\n\\nbestF = gridF.fit(X_train, y_train)'"
            ]
          },
          "metadata": {
            "tags": []
          },
          "execution_count": 340
        }
      ]
    },
    {
      "cell_type": "code",
      "metadata": {
        "id": "wNF2rmbQ7hRk"
      },
      "source": [
        "#gridF.best_params_"
      ],
      "execution_count": 341,
      "outputs": []
    },
    {
      "cell_type": "code",
      "metadata": {
        "id": "RDcw-_jtGngW"
      },
      "source": [
        "#{'max_depth': 30, 'min_samples_split': 5, 'n_estimators': 100}"
      ],
      "execution_count": 342,
      "outputs": []
    },
    {
      "cell_type": "code",
      "metadata": {
        "id": "gNLCJC0CHH2h"
      },
      "source": [
        "Response_df = pd.DataFrame(y_test_pred, columns =['Response']) \r\n"
      ],
      "execution_count": 343,
      "outputs": []
    },
    {
      "cell_type": "code",
      "metadata": {
        "id": "KeQqX0GKJuPz"
      },
      "source": [
        "#Response_df['ID'] = Response_df.index\r\n",
        "Response_df.reset_index(level=0, inplace=True)\r\n",
        "Response_df = Response_df.rename(columns={'index': 'ID'})"
      ],
      "execution_count": 344,
      "outputs": []
    },
    {
      "cell_type": "code",
      "metadata": {
        "colab": {
          "base_uri": "https://localhost:8080/",
          "height": 419
        },
        "id": "52JT6cSak7Gu",
        "outputId": "af31ca37-163f-43b5-865b-7f583e6b704c"
      },
      "source": [
        "Response_df"
      ],
      "execution_count": 345,
      "outputs": [
        {
          "output_type": "execute_result",
          "data": {
            "text/html": [
              "<div>\n",
              "<style scoped>\n",
              "    .dataframe tbody tr th:only-of-type {\n",
              "        vertical-align: middle;\n",
              "    }\n",
              "\n",
              "    .dataframe tbody tr th {\n",
              "        vertical-align: top;\n",
              "    }\n",
              "\n",
              "    .dataframe thead th {\n",
              "        text-align: right;\n",
              "    }\n",
              "</style>\n",
              "<table border=\"1\" class=\"dataframe\">\n",
              "  <thead>\n",
              "    <tr style=\"text-align: right;\">\n",
              "      <th></th>\n",
              "      <th>ID</th>\n",
              "      <th>Response</th>\n",
              "    </tr>\n",
              "  </thead>\n",
              "  <tbody>\n",
              "    <tr>\n",
              "      <th>0</th>\n",
              "      <td>0</td>\n",
              "      <td>1</td>\n",
              "    </tr>\n",
              "    <tr>\n",
              "      <th>1</th>\n",
              "      <td>1</td>\n",
              "      <td>0</td>\n",
              "    </tr>\n",
              "    <tr>\n",
              "      <th>2</th>\n",
              "      <td>2</td>\n",
              "      <td>0</td>\n",
              "    </tr>\n",
              "    <tr>\n",
              "      <th>3</th>\n",
              "      <td>3</td>\n",
              "      <td>0</td>\n",
              "    </tr>\n",
              "    <tr>\n",
              "      <th>4</th>\n",
              "      <td>4</td>\n",
              "      <td>0</td>\n",
              "    </tr>\n",
              "    <tr>\n",
              "      <th>...</th>\n",
              "      <td>...</td>\n",
              "      <td>...</td>\n",
              "    </tr>\n",
              "    <tr>\n",
              "      <th>21800</th>\n",
              "      <td>21800</td>\n",
              "      <td>0</td>\n",
              "    </tr>\n",
              "    <tr>\n",
              "      <th>21801</th>\n",
              "      <td>21801</td>\n",
              "      <td>0</td>\n",
              "    </tr>\n",
              "    <tr>\n",
              "      <th>21802</th>\n",
              "      <td>21802</td>\n",
              "      <td>0</td>\n",
              "    </tr>\n",
              "    <tr>\n",
              "      <th>21803</th>\n",
              "      <td>21803</td>\n",
              "      <td>0</td>\n",
              "    </tr>\n",
              "    <tr>\n",
              "      <th>21804</th>\n",
              "      <td>21804</td>\n",
              "      <td>0</td>\n",
              "    </tr>\n",
              "  </tbody>\n",
              "</table>\n",
              "<p>21805 rows × 2 columns</p>\n",
              "</div>"
            ],
            "text/plain": [
              "          ID  Response\n",
              "0          0         1\n",
              "1          1         0\n",
              "2          2         0\n",
              "3          3         0\n",
              "4          4         0\n",
              "...      ...       ...\n",
              "21800  21800         0\n",
              "21801  21801         0\n",
              "21802  21802         0\n",
              "21803  21803         0\n",
              "21804  21804         0\n",
              "\n",
              "[21805 rows x 2 columns]"
            ]
          },
          "metadata": {
            "tags": []
          },
          "execution_count": 345
        }
      ]
    },
    {
      "cell_type": "code",
      "metadata": {
        "id": "Dou48eX8Kp49"
      },
      "source": [
        "Response_df.to_csv(\"/content/drive/MyDrive/Health_Insu_Lead_Prediction_Submission_V4.csv\", index=False)"
      ],
      "execution_count": 348,
      "outputs": []
    },
    {
      "cell_type": "code",
      "metadata": {
        "colab": {
          "base_uri": "https://localhost:8080/"
        },
        "id": "KHkZLDMAt0f7",
        "outputId": "1c7fb23a-4495-4cce-e7fb-15f63353cbf1"
      },
      "source": [
        "df_test.shape"
      ],
      "execution_count": 347,
      "outputs": [
        {
          "output_type": "execute_result",
          "data": {
            "text/plain": [
              "(21805, 72)"
            ]
          },
          "metadata": {
            "tags": []
          },
          "execution_count": 347
        }
      ]
    },
    {
      "cell_type": "code",
      "metadata": {
        "id": "7pVDfkYBuaP-"
      },
      "source": [
        ""
      ],
      "execution_count": 347,
      "outputs": []
    }
  ]
}